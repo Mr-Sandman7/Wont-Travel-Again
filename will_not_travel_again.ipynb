{
 "cells": [
  {
   "attachments": {},
   "cell_type": "markdown",
   "id": "20280abf-5599-4c89-be54-e9474622b2f6",
   "metadata": {},
   "source": [
    "<h1 dir=rtl align=center style=\"line-height:200%;font-family:vazir;color:#0099cc\">\n",
    "<font face=\"vazir\" color=\"#0099cc\">\n",
    "سفر نمی‌روم دگر!\n",
    "</font>\n",
    "</h1>\n",
    "\n",
    "\n",
    "<p dir=rtl style=\"direction: rtl; text-align: justify; line-height:200%; font-family:vazir; font-size:medium\">\n",
    "<font face=\"vazir\" size=3>\n",
    "    احتمالاً هنگامی‌که بخواهید برای تعطیلات نوروز به یک شهر مانند ارومیه سفر کنید، از طریق موبایل و یا لپ‌تاپ‌ و از مسیر جست‌وجوی گوگل، پیامک تبلیغاتی و یا به‌صورت مستقیم، وارد یک سایت رزرو هتل می‌شوید و بعد از ساخت حساب کاربری، اقدام به جست‌وجو کرده و مقصد و تاریخ ورود/خروج خود را وارد می‌کنید. در نتیجه لیستی از هتل‌ها برای شما، نشان داده‌ می‌شود و در نهایت، شما با کلیک بر روی هتل‌های مختلف، اقدام به مقایسه ی آن‌ها کرده و شاید (🙃) در نهایت یکی از آن‌ها را رزرو کنید.\n",
    "<br>\n",
    "در این پروژه شما پس از پیش‌پردازش داده‌ها و حل چالش‌های مربوط به آن، مدلی را آموزش می‌دهید که بر اساس اطلاعات جست‌وجوی کاربران و سایر ویژگی‌های مرتبط با آن، بتواند پیش‌بینی کند که آیا یک کاربر، هتل مشاهده‌شده را رزرو خواهد کرد یا خیر. بدین ترتیب، می‌توان در لحظه برای هر کاربر، متناسب با پیش‌بینی رزرو، تصمیم متناسبی همانند ارائه‌ی تخفیف و یا پیشنهاد سایر هتل‌ها اتخاذ کرد.\n",
    "</font>\n",
    "</p>"
   ]
  },
  {
   "attachments": {},
   "cell_type": "markdown",
   "id": "aad47031-e73c-4f74-85ca-27fed60fa8b5",
   "metadata": {},
   "source": [
    "<h2 align=right style=\"line-height:200%;font-family:vazir;color:#0099cc\">\n",
    "<font face=\"vazir\" color=\"#0099cc\">\n",
    "وارد کردن کتابخانه‌های مورد نیاز\n",
    "</font>\n",
    "</h2>\n",
    "\n",
    "<p dir=rtl style=\"direction: rtl; text-align: justify; line-height:200%; font-family:vazir; font-size:medium\">\n",
    "<font face=\"vazir\" size=3>\n",
    "    ابتدا کتابخانه‌های مورد نیاز را وارد کنید. در صورتی‌که نیاز به کتابخانه‌های دیگری دارید نیز می‌توانید آن‌ها را فراخوانی کنید.\n",
    "</font>\n",
    "</p>"
   ]
  },
  {
   "cell_type": "code",
   "execution_count": 155,
   "id": "f0a3e032-9c3c-49ae-be43-bc56fb0f1bdd",
   "metadata": {},
   "outputs": [],
   "source": [
    "import numpy as np\n",
    "import pandas as pd"
   ]
  },
  {
   "cell_type": "code",
   "execution_count": 156,
   "id": "b46c2c70",
   "metadata": {},
   "outputs": [],
   "source": [
    "# !pip install keras --upgrade\n",
    "# Uncomment the above line if you don't have keras 3 installed"
   ]
  },
  {
   "cell_type": "code",
   "execution_count": 157,
   "id": "ebd8caa9",
   "metadata": {},
   "outputs": [],
   "source": [
    "import os\n",
    "os.environ[\"KERAS_BACKEND\"] = \"tensorflow\""
   ]
  },
  {
   "cell_type": "code",
   "execution_count": 158,
   "id": "ea032cd4",
   "metadata": {},
   "outputs": [
    {
     "name": "stdout",
     "output_type": "stream",
     "text": [
      "3.4.1\n"
     ]
    }
   ],
   "source": [
    "import keras\n",
    "print(keras.__version__)"
   ]
  },
  {
   "attachments": {},
   "cell_type": "markdown",
   "id": "60c78b08-d918-4544-ad76-2d1dff9714f1",
   "metadata": {},
   "source": [
    "<h2 dir=rtl align=right style=\"line-height:200%;font-family:vazir;color:#0099cc\">\n",
    "<font face=\"vazir\" color=\"#0099cc\">\n",
    "مجموعه‌داده\n",
    "</font>\n",
    "</h2>\n",
    "\n",
    "\n",
    "\n",
    "<p dir=rtl style=\"direction: rtl; text-align: justify; line-height:200%; font-family:vazir; font-size:medium\">\n",
    "<font face=\"vazir\" size=3>\n",
    "به‌دلیل حجم بالای مجموعه‌داده نیاز است آن را جداگانه از <a href=\"https://drive.google.com/file/d/1jIl8uXsrdRz3ZBxljjQNo0ssDT8LbJBx/view?usp=sharing\" target=\"_blank\">این لینک</a> دانلود کرده و فایل‌های داخل آن را استخراج کنید.  توجه داشته باشید که اندازه‌ی مجموعه‌داده حدود ۱۸۰ مگابایت است و اگر قصد دانلود این حجم از داده را ندارید پیشنهاد می‌کنیم از محیط گوگل کولب استفاده کرده و به‌صورت مستقیم با دستور زیر این فایل را روی کولب خود بارگیری کنید.\n",
    "</font>\n",
    "</p>\n",
    "\n",
    "`!gdown 1jIl8uXsrdRz3ZBxljjQNo0ssDT8LbJBx`\n",
    "\n",
    "<details dir=\"rtl\" style=\"direction: rtl;text-align: justify;line-height:200%;font-family:vazir;font-size:medium\">\n",
    "<summary dir=\"rtl\" style=\"color:orange\"><b>رفع مشکل عدم امکان دانلود فایل با <code>gdown</code></b></summary>\n",
    "\n",
    "اگر در هنگام دانلود فایل به‌کمک <code>gdown</code> با خطای عدم اجازه‌ی دسترسی مواجه شدید، کافیست کد زیر را اجرا کرده و دوباره امتحان کنید.\n",
    "\n",
    "<span dir=ltr style=\"direction:ltr;\">\n",
    "\n",
    "`!pip install --upgrade --no-cache-dir gdown`\n",
    "\n",
    "</span>\n",
    "</details>\n",
    "\n",
    "<p dir=rtl style=\"direction: rtl; text-align: justify; line-height:200%; font-family:vazir; font-size:medium\">\n",
    "<font face=\"vazir\">\n",
    "در این سوال، شما به داده‌های جست‌وجوی کاربران دسترسی دارید. فایل آموزش (<code>train.csv</code>)، نتایج جست‌وجوی کاربران را در یک بازه‌ی حدوداً دو ساله شامل می‌شود و حدود ۷ میلیون سطر دارد. فایل آزمون (<code>test.csv</code>) دارای ۳۰۰ هزار سطر از اطلاعات جست‌وجوی کاربران در بازه‌ی حدود ۱ ماه پس از آخرین جست‌وجوی موجود در فایل آموزش است (این سطرها، به‌صورت تصادفی از بین چند میلیون سطر آن ماه، انتخاب شده‌اند).\n",
    "جدول زیر، ستون‌های موجود در فایل آموزش را توضیح می‌دهد. توجه داشته‌ باشید که هر ردیف این مجموعه‌داده، نشان‌دهنده‌ی جست‌وجوی یک کاربر جهت رزرو هتل است.\n",
    "     همچنین در مجموعه‌داده‌ی آزمون، ستون <code>is_booking</code> وجود ندارد، زیرا در ادامه از این ستون برای ساخت متغیر هدف مسئله استفاده خواهیم کرد.\n",
    "    <br> نحوه‌ی روبه‌رو شدن شما با مجموعه‌داده‌ای با این حجم، جزو یکی از چالش‌ها و اهداف طراحی این تمرین بوده‌است.\n",
    "\n",
    "</font>\n",
    "</p>\n",
    "\n",
    "\n",
    "<center>\n",
    "<div dir=rtl style=\"direction: rtl;line-height:200%;font-family:vazir;font-size:medium\">\n",
    "<font face=\"vazir\" size=3>\n",
    "\n",
    "| نام ستون | توضیحات ستون |\n",
    "|:----------:|:------------------:|\n",
    "| <code>user</code> | شناسه کاربر |\n",
    "| <code>user_location_country</code> | شناسه‌ی کشور کاربر |\n",
    "| <code>user_location_region</code> | شناسه‌ی منطقه‌ی کاربر |\n",
    "| <code>user_location_city</code> | شناسه‌ی شهر کاربر |\n",
    "| <code>destination_distance</code> | فاصله‌ی فیزیکی بین کاربر و هتل در زمان جست‌وجو‌ (مقدار <code>null</code> به معنی عدم توانایی محاسبه فاصله است) |\n",
    "| <code>search_date</code> | زمان انجام جست‌وجو |\n",
    "| <code>is_mobile</code> | آیا کاربر با دستگاه موبایل جست‌وجو انجام داده است؟ |\n",
    "| <code>is_package</code> | آیا کاربر در حال جست‌وجوی هتل به‌همراه بلیط حمل‌و‌نقل (اتوبوس، هواپیما یا قطار) است؟|\n",
    "| <code>channel</code> | کاربر از چه کانالی وارد سایت شده‌است؟ (تبلیغات پیامکی، تبلیغات شبکه‌ی اجتماعی، ورود مستقیم و ...)  |\n",
    "| <code>Search_count</code> |تعداد جست‌وجو‌های مشابه در لحظه‌ی کاربر (در همان نشست یا ‌<i>session</i>)|\n",
    "| <code>checkIn_date</code> | تاریخ ورود به هتل |\n",
    "| <code>checkOut_date</code> | تاریخ خروج از هتل |\n",
    "| <code>n_adults</code> | تعداد افراد بالغ اعلام‌شده جهت رزرو هتل |\n",
    "| <code>n_children</code> | تعداد کودکان اعلام‌شده جهت رزرو هتل |\n",
    "| <code>n_rooms</code> | تعداد اتاق مورد نظر برای رزرو |\n",
    "| <code>destination</code> | شناسه‌ی محل هتل مورد نظر کاربر (با هم‌پوشانی همچون نیویورک، نیویورک سیتی، سنترال پارک و غیره) |\n",
    "| <code>destination_type</code> | کد نوع هتل مورد نظر کار‌بر |\n",
    "| <code>hotel_continent</code> | شناسه‌ی قاره‌ی هتل مورد نظر کاربر |\n",
    "| <code>hotel_country</code> | شناسه‌ی کشور هتل مورد نظر کاربر |\n",
    "| <code>hotel_market</code> | ناحیه‌ای که هتل مورد نظر کاربر در آن قرار گرفته‌است (بدون هم‌پوشانی همچون نیویورک، بوستون و غیره)|\n",
    "| <code>hotel_category</code> | گرو‌ه‌بندی هتلی که جزییاتش را مشاهده می‌کنند. این گروه‌بندی می‌تواند بر اساس مواردی مانند چندستاره بودن و یا نوع هتل باشد. |\n",
    "| <code>is_booking<code> | آیا کاربر در نهایت، هتل مشاهده‌شده را رزرو کرده یا خیر؟ |\n",
    "\n",
    "\n",
    "</font>\n",
    "</div>\n",
    "</center>"
   ]
  },
  {
   "cell_type": "code",
   "execution_count": 159,
   "id": "238e2183",
   "metadata": {},
   "outputs": [],
   "source": [
    "# ‌!pip install --upgrade --no-cache-dir gdown\n",
    "# !gdown 1jIl8uXsrdRz3ZBxljjQNo0ssDT8LbJBx"
   ]
  },
  {
   "attachments": {},
   "cell_type": "markdown",
   "id": "820bf0d7-de5a-4d03-bfed-c74ea313411a",
   "metadata": {},
   "source": [
    "<h2 align=right style=\"line-height:200%;font-family:vazir;color:#0099cc\">\n",
    "<font face=\"vazir\" color=\"#0099cc\">\n",
    "خوانش مجموعه‌داده\n",
    "</font>\n",
    "</h2>\n",
    "\n",
    "<p dir=rtl style=\"direction: rtl; text-align: justify; line-height:200%; font-family:vazir; font-size:medium\">\n",
    "<font face=\"vazir\" size=3>\n",
    "   در ابتدا نیاز است فایل‌ مجموعه‌داده را بخوانید. داده‌‌های آموزش را می‌توانید از فایل <code>train.csv</code> موجود در پوشه‌ی <code>data</code> بخوانید و از نمونه‌های موجود در آن برای آموزش مدل استفاده کنید.\n",
    " عملکرد مدل شما روی داده‌ی <code>test.csv</code> برسی می‌شود.\n",
    "</font>\n",
    "</p>"
   ]
  },
  {
   "cell_type": "code",
   "execution_count": 160,
   "id": "abb84b7f-b40c-4691-92bc-fab04cca62e6",
   "metadata": {},
   "outputs": [
    {
     "data": {
      "text/html": [
       "<div>\n",
       "<style scoped>\n",
       "    .dataframe tbody tr th:only-of-type {\n",
       "        vertical-align: middle;\n",
       "    }\n",
       "\n",
       "    .dataframe tbody tr th {\n",
       "        vertical-align: top;\n",
       "    }\n",
       "\n",
       "    .dataframe thead th {\n",
       "        text-align: right;\n",
       "    }\n",
       "</style>\n",
       "<table border=\"1\" class=\"dataframe\">\n",
       "  <thead>\n",
       "    <tr style=\"text-align: right;\">\n",
       "      <th></th>\n",
       "      <th>user</th>\n",
       "      <th>user_location_country</th>\n",
       "      <th>user_location_region</th>\n",
       "      <th>user_location_city</th>\n",
       "      <th>destination_distance</th>\n",
       "      <th>search_date</th>\n",
       "      <th>is_mobile</th>\n",
       "      <th>is_package</th>\n",
       "      <th>channel</th>\n",
       "      <th>search_count</th>\n",
       "      <th>...</th>\n",
       "      <th>n_adults</th>\n",
       "      <th>n_children</th>\n",
       "      <th>n_rooms</th>\n",
       "      <th>destination</th>\n",
       "      <th>destination_type</th>\n",
       "      <th>hotel_continent</th>\n",
       "      <th>hotel_country</th>\n",
       "      <th>hotel_market</th>\n",
       "      <th>hotel_category</th>\n",
       "      <th>is_booking</th>\n",
       "    </tr>\n",
       "  </thead>\n",
       "  <tbody>\n",
       "    <tr>\n",
       "      <th>0</th>\n",
       "      <td>461899</td>\n",
       "      <td>3</td>\n",
       "      <td>50</td>\n",
       "      <td>5703</td>\n",
       "      <td>NaN</td>\n",
       "      <td>2013-01-07 00:00:02</td>\n",
       "      <td>0</td>\n",
       "      <td>0</td>\n",
       "      <td>9</td>\n",
       "      <td>1</td>\n",
       "      <td>...</td>\n",
       "      <td>2</td>\n",
       "      <td>1</td>\n",
       "      <td>1</td>\n",
       "      <td>669</td>\n",
       "      <td>3</td>\n",
       "      <td>2</td>\n",
       "      <td>50</td>\n",
       "      <td>212</td>\n",
       "      <td>41</td>\n",
       "      <td>0</td>\n",
       "    </tr>\n",
       "    <tr>\n",
       "      <th>1</th>\n",
       "      <td>13796</td>\n",
       "      <td>66</td>\n",
       "      <td>174</td>\n",
       "      <td>21177</td>\n",
       "      <td>5713.6206</td>\n",
       "      <td>2013-01-07 00:00:06</td>\n",
       "      <td>0</td>\n",
       "      <td>0</td>\n",
       "      <td>9</td>\n",
       "      <td>3</td>\n",
       "      <td>...</td>\n",
       "      <td>1</td>\n",
       "      <td>0</td>\n",
       "      <td>1</td>\n",
       "      <td>8821</td>\n",
       "      <td>1</td>\n",
       "      <td>6</td>\n",
       "      <td>17</td>\n",
       "      <td>30</td>\n",
       "      <td>58</td>\n",
       "      <td>0</td>\n",
       "    </tr>\n",
       "    <tr>\n",
       "      <th>2</th>\n",
       "      <td>1128575</td>\n",
       "      <td>205</td>\n",
       "      <td>155</td>\n",
       "      <td>14703</td>\n",
       "      <td>795.7298</td>\n",
       "      <td>2013-01-07 00:00:06</td>\n",
       "      <td>0</td>\n",
       "      <td>0</td>\n",
       "      <td>9</td>\n",
       "      <td>1</td>\n",
       "      <td>...</td>\n",
       "      <td>1</td>\n",
       "      <td>0</td>\n",
       "      <td>1</td>\n",
       "      <td>25064</td>\n",
       "      <td>6</td>\n",
       "      <td>2</td>\n",
       "      <td>50</td>\n",
       "      <td>1230</td>\n",
       "      <td>91</td>\n",
       "      <td>0</td>\n",
       "    </tr>\n",
       "    <tr>\n",
       "      <th>3</th>\n",
       "      <td>1080476</td>\n",
       "      <td>69</td>\n",
       "      <td>761</td>\n",
       "      <td>41949</td>\n",
       "      <td>NaN</td>\n",
       "      <td>2013-01-07 00:00:17</td>\n",
       "      <td>0</td>\n",
       "      <td>1</td>\n",
       "      <td>9</td>\n",
       "      <td>1</td>\n",
       "      <td>...</td>\n",
       "      <td>2</td>\n",
       "      <td>0</td>\n",
       "      <td>1</td>\n",
       "      <td>7635</td>\n",
       "      <td>3</td>\n",
       "      <td>2</td>\n",
       "      <td>50</td>\n",
       "      <td>675</td>\n",
       "      <td>10</td>\n",
       "      <td>0</td>\n",
       "    </tr>\n",
       "    <tr>\n",
       "      <th>4</th>\n",
       "      <td>1080476</td>\n",
       "      <td>69</td>\n",
       "      <td>761</td>\n",
       "      <td>41949</td>\n",
       "      <td>NaN</td>\n",
       "      <td>2013-01-07 00:00:23</td>\n",
       "      <td>0</td>\n",
       "      <td>1</td>\n",
       "      <td>9</td>\n",
       "      <td>1</td>\n",
       "      <td>...</td>\n",
       "      <td>2</td>\n",
       "      <td>0</td>\n",
       "      <td>1</td>\n",
       "      <td>7635</td>\n",
       "      <td>3</td>\n",
       "      <td>2</td>\n",
       "      <td>50</td>\n",
       "      <td>675</td>\n",
       "      <td>10</td>\n",
       "      <td>0</td>\n",
       "    </tr>\n",
       "  </tbody>\n",
       "</table>\n",
       "<p>5 rows × 22 columns</p>\n",
       "</div>"
      ],
      "text/plain": [
       "      user  user_location_country  user_location_region  user_location_city  \\\n",
       "0   461899                      3                    50                5703   \n",
       "1    13796                     66                   174               21177   \n",
       "2  1128575                    205                   155               14703   \n",
       "3  1080476                     69                   761               41949   \n",
       "4  1080476                     69                   761               41949   \n",
       "\n",
       "   destination_distance         search_date  is_mobile  is_package  channel  \\\n",
       "0                   NaN 2013-01-07 00:00:02          0           0        9   \n",
       "1             5713.6206 2013-01-07 00:00:06          0           0        9   \n",
       "2              795.7298 2013-01-07 00:00:06          0           0        9   \n",
       "3                   NaN 2013-01-07 00:00:17          0           1        9   \n",
       "4                   NaN 2013-01-07 00:00:23          0           1        9   \n",
       "\n",
       "   search_count  ... n_adults n_children  n_rooms  destination  \\\n",
       "0             1  ...        2          1        1          669   \n",
       "1             3  ...        1          0        1         8821   \n",
       "2             1  ...        1          0        1        25064   \n",
       "3             1  ...        2          0        1         7635   \n",
       "4             1  ...        2          0        1         7635   \n",
       "\n",
       "   destination_type  hotel_continent  hotel_country  hotel_market  \\\n",
       "0                 3                2             50           212   \n",
       "1                 1                6             17            30   \n",
       "2                 6                2             50          1230   \n",
       "3                 3                2             50           675   \n",
       "4                 3                2             50           675   \n",
       "\n",
       "   hotel_category  is_booking  \n",
       "0              41           0  \n",
       "1              58           0  \n",
       "2              91           0  \n",
       "3              10           0  \n",
       "4              10           0  \n",
       "\n",
       "[5 rows x 22 columns]"
      ]
     },
     "execution_count": 160,
     "metadata": {},
     "output_type": "execute_result"
    }
   ],
   "source": [
    "train = pd.read_csv('train.csv', engine= \"pyarrow\")\n",
    "test = pd.read_csv('test.csv', engine= \"pyarrow\")\n",
    "\n",
    "train.head()"
   ]
  },
  {
   "attachments": {},
   "cell_type": "markdown",
   "id": "21c8f01d-e4e1-4c47-abdc-9b87f355e1bb",
   "metadata": {},
   "source": [
    "<h2 align=right style=\"line-height:200%;font-family:vazir;color:#0099cc\">\n",
    "<font face=\"vazir\" color=\"#0099cc\">\n",
    "اکتشاف داده‌ها و مهندسی ویژکی\n",
    "</font>\n",
    "</h2>\n",
    "\n",
    "<p dir=rtl style=\"direction: rtl; text-align: justify; line-height:200%; font-family:vazir; font-size:medium\">\n",
    "<font face=\"vazir\" size=3>\n",
    "در مرحله اول به بررسی و اکتشاف داده‌ها و مهندسی ویژگی می‌پردازیم. در ابتدا با حذف ستون  <code>user</code> سعی در کم‌کردن حجم داده‌ها می‌کنیم، این عمل با توجه به یکتایی این مقادیر تاثیری در عملکرد مدل نخواهد داشت.\n",
    "</font>\n",
    "</p>"
   ]
  },
  {
   "cell_type": "code",
   "execution_count": 161,
   "id": "b3bc71b5-b4ee-4bd9-a74b-de7a16fcb9d7",
   "metadata": {},
   "outputs": [
    {
     "data": {
      "text/html": [
       "<div>\n",
       "<style scoped>\n",
       "    .dataframe tbody tr th:only-of-type {\n",
       "        vertical-align: middle;\n",
       "    }\n",
       "\n",
       "    .dataframe tbody tr th {\n",
       "        vertical-align: top;\n",
       "    }\n",
       "\n",
       "    .dataframe thead th {\n",
       "        text-align: right;\n",
       "    }\n",
       "</style>\n",
       "<table border=\"1\" class=\"dataframe\">\n",
       "  <thead>\n",
       "    <tr style=\"text-align: right;\">\n",
       "      <th></th>\n",
       "      <th>user_location_country</th>\n",
       "      <th>user_location_region</th>\n",
       "      <th>user_location_city</th>\n",
       "      <th>destination_distance</th>\n",
       "      <th>search_date</th>\n",
       "      <th>is_mobile</th>\n",
       "      <th>is_package</th>\n",
       "      <th>channel</th>\n",
       "      <th>search_count</th>\n",
       "      <th>checkIn_date</th>\n",
       "      <th>...</th>\n",
       "      <th>n_adults</th>\n",
       "      <th>n_children</th>\n",
       "      <th>n_rooms</th>\n",
       "      <th>destination</th>\n",
       "      <th>destination_type</th>\n",
       "      <th>hotel_continent</th>\n",
       "      <th>hotel_country</th>\n",
       "      <th>hotel_market</th>\n",
       "      <th>hotel_category</th>\n",
       "      <th>is_booking</th>\n",
       "    </tr>\n",
       "  </thead>\n",
       "  <tbody>\n",
       "    <tr>\n",
       "      <th>0</th>\n",
       "      <td>3</td>\n",
       "      <td>50</td>\n",
       "      <td>5703</td>\n",
       "      <td>NaN</td>\n",
       "      <td>2013-01-07 00:00:02</td>\n",
       "      <td>0</td>\n",
       "      <td>0</td>\n",
       "      <td>9</td>\n",
       "      <td>1</td>\n",
       "      <td>2013-03-14</td>\n",
       "      <td>...</td>\n",
       "      <td>2</td>\n",
       "      <td>1</td>\n",
       "      <td>1</td>\n",
       "      <td>669</td>\n",
       "      <td>3</td>\n",
       "      <td>2</td>\n",
       "      <td>50</td>\n",
       "      <td>212</td>\n",
       "      <td>41</td>\n",
       "      <td>0</td>\n",
       "    </tr>\n",
       "    <tr>\n",
       "      <th>1</th>\n",
       "      <td>66</td>\n",
       "      <td>174</td>\n",
       "      <td>21177</td>\n",
       "      <td>5713.6206</td>\n",
       "      <td>2013-01-07 00:00:06</td>\n",
       "      <td>0</td>\n",
       "      <td>0</td>\n",
       "      <td>9</td>\n",
       "      <td>3</td>\n",
       "      <td>2013-01-19</td>\n",
       "      <td>...</td>\n",
       "      <td>1</td>\n",
       "      <td>0</td>\n",
       "      <td>1</td>\n",
       "      <td>8821</td>\n",
       "      <td>1</td>\n",
       "      <td>6</td>\n",
       "      <td>17</td>\n",
       "      <td>30</td>\n",
       "      <td>58</td>\n",
       "      <td>0</td>\n",
       "    </tr>\n",
       "    <tr>\n",
       "      <th>2</th>\n",
       "      <td>205</td>\n",
       "      <td>155</td>\n",
       "      <td>14703</td>\n",
       "      <td>795.7298</td>\n",
       "      <td>2013-01-07 00:00:06</td>\n",
       "      <td>0</td>\n",
       "      <td>0</td>\n",
       "      <td>9</td>\n",
       "      <td>1</td>\n",
       "      <td>2013-01-19</td>\n",
       "      <td>...</td>\n",
       "      <td>1</td>\n",
       "      <td>0</td>\n",
       "      <td>1</td>\n",
       "      <td>25064</td>\n",
       "      <td>6</td>\n",
       "      <td>2</td>\n",
       "      <td>50</td>\n",
       "      <td>1230</td>\n",
       "      <td>91</td>\n",
       "      <td>0</td>\n",
       "    </tr>\n",
       "    <tr>\n",
       "      <th>3</th>\n",
       "      <td>69</td>\n",
       "      <td>761</td>\n",
       "      <td>41949</td>\n",
       "      <td>NaN</td>\n",
       "      <td>2013-01-07 00:00:17</td>\n",
       "      <td>0</td>\n",
       "      <td>1</td>\n",
       "      <td>9</td>\n",
       "      <td>1</td>\n",
       "      <td>2013-05-29</td>\n",
       "      <td>...</td>\n",
       "      <td>2</td>\n",
       "      <td>0</td>\n",
       "      <td>1</td>\n",
       "      <td>7635</td>\n",
       "      <td>3</td>\n",
       "      <td>2</td>\n",
       "      <td>50</td>\n",
       "      <td>675</td>\n",
       "      <td>10</td>\n",
       "      <td>0</td>\n",
       "    </tr>\n",
       "    <tr>\n",
       "      <th>4</th>\n",
       "      <td>69</td>\n",
       "      <td>761</td>\n",
       "      <td>41949</td>\n",
       "      <td>NaN</td>\n",
       "      <td>2013-01-07 00:00:23</td>\n",
       "      <td>0</td>\n",
       "      <td>1</td>\n",
       "      <td>9</td>\n",
       "      <td>1</td>\n",
       "      <td>2013-05-29</td>\n",
       "      <td>...</td>\n",
       "      <td>2</td>\n",
       "      <td>0</td>\n",
       "      <td>1</td>\n",
       "      <td>7635</td>\n",
       "      <td>3</td>\n",
       "      <td>2</td>\n",
       "      <td>50</td>\n",
       "      <td>675</td>\n",
       "      <td>10</td>\n",
       "      <td>0</td>\n",
       "    </tr>\n",
       "  </tbody>\n",
       "</table>\n",
       "<p>5 rows × 21 columns</p>\n",
       "</div>"
      ],
      "text/plain": [
       "   user_location_country  user_location_region  user_location_city  \\\n",
       "0                      3                    50                5703   \n",
       "1                     66                   174               21177   \n",
       "2                    205                   155               14703   \n",
       "3                     69                   761               41949   \n",
       "4                     69                   761               41949   \n",
       "\n",
       "   destination_distance         search_date  is_mobile  is_package  channel  \\\n",
       "0                   NaN 2013-01-07 00:00:02          0           0        9   \n",
       "1             5713.6206 2013-01-07 00:00:06          0           0        9   \n",
       "2              795.7298 2013-01-07 00:00:06          0           0        9   \n",
       "3                   NaN 2013-01-07 00:00:17          0           1        9   \n",
       "4                   NaN 2013-01-07 00:00:23          0           1        9   \n",
       "\n",
       "   search_count checkIn_date  ... n_adults  n_children  n_rooms  destination  \\\n",
       "0             1   2013-03-14  ...        2           1        1          669   \n",
       "1             3   2013-01-19  ...        1           0        1         8821   \n",
       "2             1   2013-01-19  ...        1           0        1        25064   \n",
       "3             1   2013-05-29  ...        2           0        1         7635   \n",
       "4             1   2013-05-29  ...        2           0        1         7635   \n",
       "\n",
       "   destination_type  hotel_continent  hotel_country  hotel_market  \\\n",
       "0                 3                2             50           212   \n",
       "1                 1                6             17            30   \n",
       "2                 6                2             50          1230   \n",
       "3                 3                2             50           675   \n",
       "4                 3                2             50           675   \n",
       "\n",
       "   hotel_category  is_booking  \n",
       "0              41           0  \n",
       "1              58           0  \n",
       "2              91           0  \n",
       "3              10           0  \n",
       "4              10           0  \n",
       "\n",
       "[5 rows x 21 columns]"
      ]
     },
     "execution_count": 161,
     "metadata": {},
     "output_type": "execute_result"
    }
   ],
   "source": [
    "train = train.drop(columns=['user'])\n",
    "test = test.drop(columns=['user'])\n",
    "\n",
    "train.head()"
   ]
  },
  {
   "attachments": {},
   "cell_type": "markdown",
   "id": "eb53e676-fdf5-42ae-bf6f-ad9c8e8ad893",
   "metadata": {},
   "source": [
    "<h3 align=right style=\"line-height:200%;font-family:vazir;color:#0099cc\">\n",
    "<font face=\"vazir\" color=\"#0099cc\">\n",
    "حذف مقادیر گم‌شده\n",
    "</font>\n",
    "</h3>\n",
    "\n",
    "\n",
    "<p dir=rtl style=\"direction: rtl; text-align: justify; line-height:200%; font-family:vazir; font-size:medium\">\n",
    "<font face=\"vazir\" size=3>\n",
    "   ابتدا با بررسی مقادیر گم‌شده در ستون‌های <code>checkIn_date</code> و <code>checkOut_date</code> این مقادیر را مدیریت کنید. در صورتی‌که حداقل ۹۹ درصد نمونه‌های شامل مقادیر گم‌شده در هر ستون دارای <b style=\"color:#0099cc\">متغیر هدف</b> با مقدار <code>0</code> باشند، آن‌ها را حذف کنید، در غیر این‌صورت از روشی دیگری جهت مدیریت آن‌ها بهره ببرید.\n",
    "</font>\n",
    "</p>"
   ]
  },
  {
   "cell_type": "code",
   "execution_count": 162,
   "id": "e09a9ead-6393-45ac-a9d7-aa659f026982",
   "metadata": {},
   "outputs": [
    {
     "name": "stdout",
     "output_type": "stream",
     "text": [
      "0 fraction in target column for null elemets in check in date: is_booking\n",
      "0    1.0\n",
      "Name: count, dtype: float64\n",
      "0 fraction in target column for null elemets in check out date: is_booking\n",
      "0    1.0\n",
      "Name: count, dtype: float64\n"
     ]
    }
   ],
   "source": [
    "print('0 fraction in target column for null elemets in check in date:' ,\n",
    "      (train[(train['checkIn_date'].isnull())]['is_booking'].value_counts())/ (train['checkIn_date'].isnull()).sum())\n",
    "print('0 fraction in target column for null elemets in check out date:' ,\n",
    "      (train[(train['checkOut_date'].isnull())]['is_booking'].value_counts())/ (train['checkOut_date'].isnull()).sum())"
   ]
  },
  {
   "cell_type": "code",
   "execution_count": 163,
   "id": "1e39b74b-d746-4231-a398-ad325acc5a0e",
   "metadata": {},
   "outputs": [],
   "source": [
    "#column that should be determined\n",
    "col = (train['checkIn_date'].isnull()) | (train['checkOut_date'].isnull())\n",
    "train = train[~col]"
   ]
  },
  {
   "attachments": {},
   "cell_type": "markdown",
   "id": "6d02efbb-de3b-408c-b70f-86cbc34839b1",
   "metadata": {},
   "source": [
    "\n",
    "<p dir=rtl style=\"direction: rtl; text-align: justify; line-height:200%; font-family:vazir; font-size:medium\">\n",
    "<font face=\"vazir\" size=3>\n",
    "همان‌طور که در توضیحات ستون‌های مسئله دیدیم ستون <code>destination_distance</code> فاصله‌ی فیزیکی بین کاربر و هتل در زمان جست‌وجو‌ را نشان می‌دهد. از آنجایی که می‌توانیم بگوییم فاصله‌ی محاسبه‌شده دو شهر با یکدیگر همواره ثابت یا در یک محدوده است، برای پر کردن مقادیر گم‌شده‌ای که این فاصله را نشان می‌دهد، می‌توانیم از <code>user_location_city</code> و <code>destination</code> که بیانگر شناسه‌ی شهر کاربر و هتل جست‌وجو شده هستند، استفاده کنیم به‌طوری‌که نمونه‌‌های که ستون‌ <code>destination_distance</code> در آن گم‌شده است، با را با میانگین مقدار  <code>destination_distance</code> در ستون‌هایی که <code>user_location_city</code> و <code>destination</code> مشابه دارند پر کنیم.\n",
    "</font>\n",
    "</p>\n"
   ]
  },
  {
   "cell_type": "code",
   "execution_count": 164,
   "id": "70407dff-9cf0-4986-8ff3-e12cec162d45",
   "metadata": {},
   "outputs": [
    {
     "data": {
      "text/plain": [
       "0.35762694533684297"
      ]
     },
     "execution_count": 164,
     "metadata": {},
     "output_type": "execute_result"
    }
   ],
   "source": [
    "train.isna().mean()['destination_distance']"
   ]
  },
  {
   "cell_type": "code",
   "execution_count": 165,
   "id": "535e3d80-6bb9-4f4e-9324-431a70a6f624",
   "metadata": {},
   "outputs": [
    {
     "name": "stderr",
     "output_type": "stream",
     "text": [
      "C:\\Users\\moham\\AppData\\Local\\Temp\\ipykernel_6124\\1903086774.py:1: FutureWarning:\n",
      "\n",
      "A value is trying to be set on a copy of a DataFrame or Series through chained assignment using an inplace method.\n",
      "The behavior will change in pandas 3.0. This inplace method will never work because the intermediate object on which we are setting values always behaves as a copy.\n",
      "\n",
      "For example, when doing 'df[col].method(value, inplace=True)', try using 'df.method({col: value}, inplace=True)' or df[col] = df[col].method(value) instead, to perform the operation inplace on the original object.\n",
      "\n",
      "\n",
      "\n",
      "C:\\Users\\moham\\AppData\\Local\\Temp\\ipykernel_6124\\1903086774.py:1: FutureWarning:\n",
      "\n",
      "Setting an item of incompatible dtype is deprecated and will raise an error in a future version of pandas. Value '<function <lambda> at 0x00000200F973D940>' has dtype incompatible with float64, please explicitly cast to a compatible dtype first.\n",
      "\n"
     ]
    }
   ],
   "source": [
    "train['destination_distance'].fillna(lambda x: (train['destination_distance'][(train['user_location_city'] == x['user_location_city']) & (train['destination'] == x['destination'])]).mean(), inplace= True)"
   ]
  },
  {
   "cell_type": "code",
   "execution_count": 166,
   "id": "57c6acb8",
   "metadata": {},
   "outputs": [
    {
     "name": "stderr",
     "output_type": "stream",
     "text": [
      "C:\\Users\\moham\\AppData\\Local\\Temp\\ipykernel_6124\\1616007968.py:1: FutureWarning:\n",
      "\n",
      "A value is trying to be set on a copy of a DataFrame or Series through chained assignment using an inplace method.\n",
      "The behavior will change in pandas 3.0. This inplace method will never work because the intermediate object on which we are setting values always behaves as a copy.\n",
      "\n",
      "For example, when doing 'df[col].method(value, inplace=True)', try using 'df.method({col: value}, inplace=True)' or df[col] = df[col].method(value) instead, to perform the operation inplace on the original object.\n",
      "\n",
      "\n",
      "\n",
      "C:\\Users\\moham\\AppData\\Local\\Temp\\ipykernel_6124\\1616007968.py:1: FutureWarning:\n",
      "\n",
      "Setting an item of incompatible dtype is deprecated and will raise an error in a future version of pandas. Value '<function <lambda> at 0x00000203541BC280>' has dtype incompatible with float64, please explicitly cast to a compatible dtype first.\n",
      "\n"
     ]
    }
   ],
   "source": [
    "test['destination_distance'].fillna(lambda x: (test['destination_distance'][(test['user_location_city'] == x['user_location_city']) & (test['destination'] == x['destination'])]).mean(), inplace= True)"
   ]
  },
  {
   "attachments": {},
   "cell_type": "markdown",
   "id": "dd209317-8d16-46b6-92b6-a51924fd42b6",
   "metadata": {},
   "source": [
    "\n",
    "<p dir=rtl style=\"direction: rtl; text-align: justify; line-height:200%; font-family:vazir; font-size:medium\">\n",
    "<font face=\"vazir\" size=3>\n",
    "حال برای سایر موارد گم‌شده از عددی مانند <code>0</code> که در این ستون استفاده نشده است، استفاده می‌کنیم.\n",
    "</font>\n",
    "</p>\n"
   ]
  },
  {
   "cell_type": "code",
   "execution_count": 167,
   "id": "fe1cdbe9",
   "metadata": {},
   "outputs": [
    {
     "data": {
      "text/html": [
       "<div>\n",
       "<style scoped>\n",
       "    .dataframe tbody tr th:only-of-type {\n",
       "        vertical-align: middle;\n",
       "    }\n",
       "\n",
       "    .dataframe tbody tr th {\n",
       "        vertical-align: top;\n",
       "    }\n",
       "\n",
       "    .dataframe thead th {\n",
       "        text-align: right;\n",
       "    }\n",
       "</style>\n",
       "<table border=\"1\" class=\"dataframe\">\n",
       "  <thead>\n",
       "    <tr style=\"text-align: right;\">\n",
       "      <th></th>\n",
       "      <th>user_location_country</th>\n",
       "      <th>user_location_region</th>\n",
       "      <th>user_location_city</th>\n",
       "      <th>destination_distance</th>\n",
       "      <th>search_date</th>\n",
       "      <th>is_mobile</th>\n",
       "      <th>is_package</th>\n",
       "      <th>channel</th>\n",
       "      <th>search_count</th>\n",
       "      <th>checkIn_date</th>\n",
       "      <th>...</th>\n",
       "      <th>n_adults</th>\n",
       "      <th>n_children</th>\n",
       "      <th>n_rooms</th>\n",
       "      <th>destination</th>\n",
       "      <th>destination_type</th>\n",
       "      <th>hotel_continent</th>\n",
       "      <th>hotel_country</th>\n",
       "      <th>hotel_market</th>\n",
       "      <th>hotel_category</th>\n",
       "      <th>is_booking</th>\n",
       "    </tr>\n",
       "  </thead>\n",
       "  <tbody>\n",
       "    <tr>\n",
       "      <th>0</th>\n",
       "      <td>3</td>\n",
       "      <td>50</td>\n",
       "      <td>5703</td>\n",
       "      <td>0.0</td>\n",
       "      <td>2013-01-07 00:00:02</td>\n",
       "      <td>0</td>\n",
       "      <td>0</td>\n",
       "      <td>9</td>\n",
       "      <td>1</td>\n",
       "      <td>2013-03-14</td>\n",
       "      <td>...</td>\n",
       "      <td>2</td>\n",
       "      <td>1</td>\n",
       "      <td>1</td>\n",
       "      <td>669</td>\n",
       "      <td>3</td>\n",
       "      <td>2</td>\n",
       "      <td>50</td>\n",
       "      <td>212</td>\n",
       "      <td>41</td>\n",
       "      <td>0</td>\n",
       "    </tr>\n",
       "    <tr>\n",
       "      <th>3</th>\n",
       "      <td>69</td>\n",
       "      <td>761</td>\n",
       "      <td>41949</td>\n",
       "      <td>0.0</td>\n",
       "      <td>2013-01-07 00:00:17</td>\n",
       "      <td>0</td>\n",
       "      <td>1</td>\n",
       "      <td>9</td>\n",
       "      <td>1</td>\n",
       "      <td>2013-05-29</td>\n",
       "      <td>...</td>\n",
       "      <td>2</td>\n",
       "      <td>0</td>\n",
       "      <td>1</td>\n",
       "      <td>7635</td>\n",
       "      <td>3</td>\n",
       "      <td>2</td>\n",
       "      <td>50</td>\n",
       "      <td>675</td>\n",
       "      <td>10</td>\n",
       "      <td>0</td>\n",
       "    </tr>\n",
       "    <tr>\n",
       "      <th>4</th>\n",
       "      <td>69</td>\n",
       "      <td>761</td>\n",
       "      <td>41949</td>\n",
       "      <td>0.0</td>\n",
       "      <td>2013-01-07 00:00:23</td>\n",
       "      <td>0</td>\n",
       "      <td>1</td>\n",
       "      <td>9</td>\n",
       "      <td>1</td>\n",
       "      <td>2013-05-29</td>\n",
       "      <td>...</td>\n",
       "      <td>2</td>\n",
       "      <td>0</td>\n",
       "      <td>1</td>\n",
       "      <td>7635</td>\n",
       "      <td>3</td>\n",
       "      <td>2</td>\n",
       "      <td>50</td>\n",
       "      <td>675</td>\n",
       "      <td>10</td>\n",
       "      <td>0</td>\n",
       "    </tr>\n",
       "    <tr>\n",
       "      <th>5</th>\n",
       "      <td>3</td>\n",
       "      <td>49</td>\n",
       "      <td>19105</td>\n",
       "      <td>0.0</td>\n",
       "      <td>2013-01-07 00:00:29</td>\n",
       "      <td>0</td>\n",
       "      <td>0</td>\n",
       "      <td>9</td>\n",
       "      <td>1</td>\n",
       "      <td>2013-04-25</td>\n",
       "      <td>...</td>\n",
       "      <td>2</td>\n",
       "      <td>0</td>\n",
       "      <td>1</td>\n",
       "      <td>14908</td>\n",
       "      <td>1</td>\n",
       "      <td>3</td>\n",
       "      <td>88</td>\n",
       "      <td>1032</td>\n",
       "      <td>75</td>\n",
       "      <td>0</td>\n",
       "    </tr>\n",
       "    <tr>\n",
       "      <th>6</th>\n",
       "      <td>3</td>\n",
       "      <td>49</td>\n",
       "      <td>19105</td>\n",
       "      <td>0.0</td>\n",
       "      <td>2013-01-07 00:00:48</td>\n",
       "      <td>0</td>\n",
       "      <td>0</td>\n",
       "      <td>9</td>\n",
       "      <td>3</td>\n",
       "      <td>2013-04-25</td>\n",
       "      <td>...</td>\n",
       "      <td>2</td>\n",
       "      <td>0</td>\n",
       "      <td>1</td>\n",
       "      <td>14908</td>\n",
       "      <td>1</td>\n",
       "      <td>3</td>\n",
       "      <td>88</td>\n",
       "      <td>1032</td>\n",
       "      <td>96</td>\n",
       "      <td>0</td>\n",
       "    </tr>\n",
       "    <tr>\n",
       "      <th>...</th>\n",
       "      <td>...</td>\n",
       "      <td>...</td>\n",
       "      <td>...</td>\n",
       "      <td>...</td>\n",
       "      <td>...</td>\n",
       "      <td>...</td>\n",
       "      <td>...</td>\n",
       "      <td>...</td>\n",
       "      <td>...</td>\n",
       "      <td>...</td>\n",
       "      <td>...</td>\n",
       "      <td>...</td>\n",
       "      <td>...</td>\n",
       "      <td>...</td>\n",
       "      <td>...</td>\n",
       "      <td>...</td>\n",
       "      <td>...</td>\n",
       "      <td>...</td>\n",
       "      <td>...</td>\n",
       "      <td>...</td>\n",
       "      <td>...</td>\n",
       "    </tr>\n",
       "    <tr>\n",
       "      <th>7622993</th>\n",
       "      <td>215</td>\n",
       "      <td>553</td>\n",
       "      <td>43520</td>\n",
       "      <td>0.0</td>\n",
       "      <td>2014-11-30 23:59:10</td>\n",
       "      <td>0</td>\n",
       "      <td>1</td>\n",
       "      <td>9</td>\n",
       "      <td>1</td>\n",
       "      <td>2014-12-12</td>\n",
       "      <td>...</td>\n",
       "      <td>2</td>\n",
       "      <td>0</td>\n",
       "      <td>1</td>\n",
       "      <td>8259</td>\n",
       "      <td>1</td>\n",
       "      <td>4</td>\n",
       "      <td>8</td>\n",
       "      <td>121</td>\n",
       "      <td>10</td>\n",
       "      <td>0</td>\n",
       "    </tr>\n",
       "    <tr>\n",
       "      <th>7622994</th>\n",
       "      <td>69</td>\n",
       "      <td>559</td>\n",
       "      <td>33142</td>\n",
       "      <td>0.0</td>\n",
       "      <td>2014-11-30 23:59:17</td>\n",
       "      <td>0</td>\n",
       "      <td>0</td>\n",
       "      <td>9</td>\n",
       "      <td>1</td>\n",
       "      <td>2014-12-04</td>\n",
       "      <td>...</td>\n",
       "      <td>1</td>\n",
       "      <td>0</td>\n",
       "      <td>1</td>\n",
       "      <td>8220</td>\n",
       "      <td>1</td>\n",
       "      <td>3</td>\n",
       "      <td>182</td>\n",
       "      <td>46</td>\n",
       "      <td>2</td>\n",
       "      <td>0</td>\n",
       "    </tr>\n",
       "    <tr>\n",
       "      <th>7622996</th>\n",
       "      <td>0</td>\n",
       "      <td>444</td>\n",
       "      <td>2681</td>\n",
       "      <td>0.0</td>\n",
       "      <td>2014-11-30 23:59:30</td>\n",
       "      <td>1</td>\n",
       "      <td>0</td>\n",
       "      <td>9</td>\n",
       "      <td>1</td>\n",
       "      <td>2014-12-14</td>\n",
       "      <td>...</td>\n",
       "      <td>2</td>\n",
       "      <td>0</td>\n",
       "      <td>1</td>\n",
       "      <td>20456</td>\n",
       "      <td>1</td>\n",
       "      <td>3</td>\n",
       "      <td>104</td>\n",
       "      <td>60</td>\n",
       "      <td>46</td>\n",
       "      <td>0</td>\n",
       "    </tr>\n",
       "    <tr>\n",
       "      <th>7622998</th>\n",
       "      <td>119</td>\n",
       "      <td>0</td>\n",
       "      <td>9622</td>\n",
       "      <td>0.0</td>\n",
       "      <td>2014-11-30 23:59:38</td>\n",
       "      <td>1</td>\n",
       "      <td>1</td>\n",
       "      <td>9</td>\n",
       "      <td>1</td>\n",
       "      <td>2014-12-04</td>\n",
       "      <td>...</td>\n",
       "      <td>1</td>\n",
       "      <td>0</td>\n",
       "      <td>1</td>\n",
       "      <td>8822</td>\n",
       "      <td>1</td>\n",
       "      <td>3</td>\n",
       "      <td>130</td>\n",
       "      <td>91</td>\n",
       "      <td>62</td>\n",
       "      <td>0</td>\n",
       "    </tr>\n",
       "    <tr>\n",
       "      <th>7622999</th>\n",
       "      <td>3</td>\n",
       "      <td>38</td>\n",
       "      <td>10474</td>\n",
       "      <td>0.0</td>\n",
       "      <td>2014-11-30 23:59:39</td>\n",
       "      <td>0</td>\n",
       "      <td>0</td>\n",
       "      <td>2</td>\n",
       "      <td>1</td>\n",
       "      <td>2014-12-06</td>\n",
       "      <td>...</td>\n",
       "      <td>1</td>\n",
       "      <td>0</td>\n",
       "      <td>1</td>\n",
       "      <td>8502</td>\n",
       "      <td>6</td>\n",
       "      <td>3</td>\n",
       "      <td>106</td>\n",
       "      <td>107</td>\n",
       "      <td>18</td>\n",
       "      <td>0</td>\n",
       "    </tr>\n",
       "  </tbody>\n",
       "</table>\n",
       "<p>2721079 rows × 21 columns</p>\n",
       "</div>"
      ],
      "text/plain": [
       "         user_location_country  user_location_region  user_location_city  \\\n",
       "0                            3                    50                5703   \n",
       "3                           69                   761               41949   \n",
       "4                           69                   761               41949   \n",
       "5                            3                    49               19105   \n",
       "6                            3                    49               19105   \n",
       "...                        ...                   ...                 ...   \n",
       "7622993                    215                   553               43520   \n",
       "7622994                     69                   559               33142   \n",
       "7622996                      0                   444                2681   \n",
       "7622998                    119                     0                9622   \n",
       "7622999                      3                    38               10474   \n",
       "\n",
       "         destination_distance         search_date  is_mobile  is_package  \\\n",
       "0                         0.0 2013-01-07 00:00:02          0           0   \n",
       "3                         0.0 2013-01-07 00:00:17          0           1   \n",
       "4                         0.0 2013-01-07 00:00:23          0           1   \n",
       "5                         0.0 2013-01-07 00:00:29          0           0   \n",
       "6                         0.0 2013-01-07 00:00:48          0           0   \n",
       "...                       ...                 ...        ...         ...   \n",
       "7622993                   0.0 2014-11-30 23:59:10          0           1   \n",
       "7622994                   0.0 2014-11-30 23:59:17          0           0   \n",
       "7622996                   0.0 2014-11-30 23:59:30          1           0   \n",
       "7622998                   0.0 2014-11-30 23:59:38          1           1   \n",
       "7622999                   0.0 2014-11-30 23:59:39          0           0   \n",
       "\n",
       "         channel  search_count checkIn_date  ... n_adults  n_children  \\\n",
       "0              9             1   2013-03-14  ...        2           1   \n",
       "3              9             1   2013-05-29  ...        2           0   \n",
       "4              9             1   2013-05-29  ...        2           0   \n",
       "5              9             1   2013-04-25  ...        2           0   \n",
       "6              9             3   2013-04-25  ...        2           0   \n",
       "...          ...           ...          ...  ...      ...         ...   \n",
       "7622993        9             1   2014-12-12  ...        2           0   \n",
       "7622994        9             1   2014-12-04  ...        1           0   \n",
       "7622996        9             1   2014-12-14  ...        2           0   \n",
       "7622998        9             1   2014-12-04  ...        1           0   \n",
       "7622999        2             1   2014-12-06  ...        1           0   \n",
       "\n",
       "         n_rooms  destination  destination_type  hotel_continent  \\\n",
       "0              1          669                 3                2   \n",
       "3              1         7635                 3                2   \n",
       "4              1         7635                 3                2   \n",
       "5              1        14908                 1                3   \n",
       "6              1        14908                 1                3   \n",
       "...          ...          ...               ...              ...   \n",
       "7622993        1         8259                 1                4   \n",
       "7622994        1         8220                 1                3   \n",
       "7622996        1        20456                 1                3   \n",
       "7622998        1         8822                 1                3   \n",
       "7622999        1         8502                 6                3   \n",
       "\n",
       "         hotel_country  hotel_market  hotel_category  is_booking  \n",
       "0                   50           212              41           0  \n",
       "3                   50           675              10           0  \n",
       "4                   50           675              10           0  \n",
       "5                   88          1032              75           0  \n",
       "6                   88          1032              96           0  \n",
       "...                ...           ...             ...         ...  \n",
       "7622993              8           121              10           0  \n",
       "7622994            182            46               2           0  \n",
       "7622996            104            60              46           0  \n",
       "7622998            130            91              62           0  \n",
       "7622999            106           107              18           0  \n",
       "\n",
       "[2721079 rows x 21 columns]"
      ]
     },
     "execution_count": 167,
     "metadata": {},
     "output_type": "execute_result"
    }
   ],
   "source": [
    "train['destination_distance'].astype('str')\n",
    "train['destination_distance'] = train['destination_distance'].apply(lambda x: 0 if callable(x) else x)\n",
    "train['destination_distance'].astype('float')\n",
    "train[train['destination_distance'] == 0]\n"
   ]
  },
  {
   "cell_type": "code",
   "execution_count": 168,
   "id": "5ad5cdf9",
   "metadata": {},
   "outputs": [
    {
     "data": {
      "text/plain": [
       "user_location_country    0\n",
       "user_location_region     0\n",
       "user_location_city       0\n",
       "destination_distance     0\n",
       "search_date              0\n",
       "is_mobile                0\n",
       "is_package               0\n",
       "channel                  0\n",
       "search_count             0\n",
       "checkIn_date             0\n",
       "checkOut_date            0\n",
       "n_adults                 0\n",
       "n_children               0\n",
       "n_rooms                  0\n",
       "destination              0\n",
       "destination_type         0\n",
       "hotel_continent          0\n",
       "hotel_country            0\n",
       "hotel_market             0\n",
       "hotel_category           0\n",
       "is_booking               0\n",
       "dtype: int64"
      ]
     },
     "execution_count": 168,
     "metadata": {},
     "output_type": "execute_result"
    }
   ],
   "source": [
    "test['destination_distance'] = test['destination_distance'].apply(lambda x: 0 if callable(x) else x)\n",
    "test['destination_distance'].astype('float')\n",
    "train.isna().sum()"
   ]
  },
  {
   "attachments": {},
   "cell_type": "markdown",
   "id": "369a75cd-4530-4918-ba85-3bb774213297",
   "metadata": {},
   "source": [
    "<h3 align=right style=\"line-height:200%;font-family:vazir;color:#0099cc\">\n",
    "<font face=\"vazir\" color=\"#0099cc\">\n",
    "ویژگی‌های زمانی\n",
    "</font>\n",
    "</h3>\n",
    "\n",
    "<p dir=rtl style=\"direction: rtl; text-align: justify; line-height:200%; font-family:vazir; font-size:medium\">\n",
    "<font face=\"vazir\" size=3>\n",
    "با بررسی ستون‌های مجموعه‌داده مشاهده می‌کنیم که سه ستون <code>checkOut_date</code>، <code>checkOut_date</code> و <code>search_date</code> بیانگر زمان هستند و می‌توان با تبدیل این مقادیر به <code>datetime64[ns]</code>  از آن‌ها اطلاعات و حتی ویژگی‌های جدید و مناسبی استخراج کرد. برای این‌کار از دستور زیر استفاده کنید. البته اکیداً توصیه می‌شود مستندات مربوط به کار با این نوع داده‌ها را بررسی کنید.\n",
    "</font>\n",
    "    \n",
    "```python\n",
    "df[‘time_type’] = pd.to_datetime(df[‘time_string’])\n",
    "```\n",
    "</p>"
   ]
  },
  {
   "cell_type": "code",
   "execution_count": 169,
   "id": "71383850",
   "metadata": {},
   "outputs": [
    {
     "name": "stdout",
     "output_type": "stream",
     "text": [
      "<class 'pandas.core.frame.DataFrame'>\n",
      "Index: 7608708 entries, 0 to 7622999\n",
      "Data columns (total 21 columns):\n",
      " #   Column                 Dtype        \n",
      "---  ------                 -----        \n",
      " 0   user_location_country  int64        \n",
      " 1   user_location_region   int64        \n",
      " 2   user_location_city     int64        \n",
      " 3   destination_distance   float64      \n",
      " 4   search_date            datetime64[s]\n",
      " 5   is_mobile              int64        \n",
      " 6   is_package             int64        \n",
      " 7   channel                int64        \n",
      " 8   search_count           int64        \n",
      " 9   checkIn_date           object       \n",
      " 10  checkOut_date          object       \n",
      " 11  n_adults               int64        \n",
      " 12  n_children             int64        \n",
      " 13  n_rooms                int64        \n",
      " 14  destination            int64        \n",
      " 15  destination_type       int64        \n",
      " 16  hotel_continent        int64        \n",
      " 17  hotel_country          int64        \n",
      " 18  hotel_market           int64        \n",
      " 19  hotel_category         int64        \n",
      " 20  is_booking             int64        \n",
      "dtypes: datetime64[s](1), float64(1), int64(17), object(2)\n",
      "memory usage: 1.2+ GB\n"
     ]
    }
   ],
   "source": [
    "train.info()"
   ]
  },
  {
   "cell_type": "code",
   "execution_count": 170,
   "id": "3db53ef8-80e4-4763-8a77-d56d6d25cca3",
   "metadata": {},
   "outputs": [],
   "source": [
    "# TODO : change type of columns in time_columns into datetime64[ns]\n",
    "\n",
    "time_columns = ['search_date', 'checkIn_date', 'checkOut_date']\n",
    "\n",
    "train['search_date'] = pd.to_datetime(train['search_date'])\n",
    "test['search_date'] = pd.to_datetime(test['search_date'])\n",
    "\n",
    "train['checkIn_date'] = pd.to_datetime(train['checkIn_date'])\n",
    "test['checkIn_date'] = pd.to_datetime(test['checkIn_date'])\n",
    "\n",
    "train['checkOut_date'] = pd.to_datetime(train['checkOut_date'])\n",
    "test['checkOut_date'] = pd.to_datetime(test['checkOut_date'])"
   ]
  },
  {
   "attachments": {},
   "cell_type": "markdown",
   "id": "3c07758f-2412-4e28-9491-d970a2fe3f63",
   "metadata": {},
   "source": [
    "\n",
    "<p dir=rtl style=\"direction: rtl; text-align: justify; line-height:200%; font-family:vazir; font-size:medium\">\n",
    "<font face=\"vazir\" size=3>\n",
    "در ابتدا شاید این سه ستون زمانی اطلاعات خوبی به مدل ندهند اما با بررسی دقیق‌تر می‌توانیم دو ویژگی جدید که تعیین‌کننده‌ی  <b>تعداد روز‌های بین زمان جست‌وجو و زمان تعیین‌شده برای ورود</b> و همچنین <b>تعداد روز‌های اقامت تعیین‌شده در جست‌وجو</b> هستند را به مجموعه داده اضافه کنیم. \n",
    "</font>\n",
    "</p>"
   ]
  },
  {
   "cell_type": "code",
   "execution_count": 171,
   "id": "4a0893a4-b555-4bfc-b521-b1e535edb7c5",
   "metadata": {},
   "outputs": [],
   "source": [
    "# TODO : Add Days of Stay\n",
    "\n",
    "train['duration'] = train['checkOut_date'] - train['checkIn_date']\n",
    "test['duration'] = test['checkOut_date'] - test['checkIn_date']\n",
    "\n",
    "# TODO : Add Days between search_date and checkIn_date\n",
    "\n",
    "days_between = None # TODO\n",
    "train['days_between'] = train['checkIn_date'] - train['search_date']\n",
    "days_between = None # TODO\n",
    "test['days_between'] = test['checkIn_date'] - test['search_date']"
   ]
  },
  {
   "attachments": {},
   "cell_type": "markdown",
   "id": "1a8ae6ff-3d3f-4a87-81f9-8063ebf70669",
   "metadata": {},
   "source": [
    "<p dir=rtl style=\"direction: rtl; text-align: justify; line-height:200%; font-family:vazir; font-size:medium\">\n",
    "<font face=\"vazir\">\n",
    "همچنین می‌توانیم با بررسی ساعت، شماره روز‌ هفته و ماه زمان جست‌وجو و ورود به هتل، ارتباط آن‌ها را با رزرو هتل بررسی کنیم. بنابراین ستونی‌های جدول زیر را به مجموعه‌داده اضافه کنید.\n",
    "</font>\n",
    "</p>\n",
    "\n",
    "<center>\n",
    "<div dir=rtl style=\"direction: rtl;line-height:200%;font-family:vazir;font-size:medium\">\n",
    "<font face=\"vazir\" size=3>\n",
    "\n",
    "| نام ستون | توضیحات ستون |\n",
    "|:-:|:-:|\n",
    "|<code>search_date_hour</code>|ساعت جست‌وجو |\n",
    "|<code>search_date_dayofweek</code>|روز جست‌وجو در هفته|\n",
    "|<code>checkIn_date_dayofweek</code>|روز ورود در هفته|\n",
    "|<code>search_date_month</code>|ماه جست‌وجو|\n",
    "|<code>checkIn_date_month</code>|ماه ورود|\n",
    "\n",
    "</font>\n",
    "</div>\n",
    "</center>\n"
   ]
  },
  {
   "cell_type": "code",
   "execution_count": 172,
   "id": "c1d89ef1-2f82-42f4-b6c6-909751763012",
   "metadata": {},
   "outputs": [],
   "source": [
    "train['search_date_hour'] = train['search_date'].dt.hour\n",
    "train['search_date_dayofweek'] = train['search_date'].dt.day_of_week\n",
    "train['checkIn_date_dayofweek'] = train['checkIn_date'].dt.day_of_week\n",
    "train['search_date_month'] = train['search_date'].dt.month\n",
    "train['checkIn_date_month'] = train['checkIn_date'].dt.month\n",
    "\n",
    "test['search_date_hour'] = test['search_date'].dt.hour\n",
    "test['search_date_dayofweek'] = test['search_date'].dt.day_of_week\n",
    "test['checkIn_date_dayofweek'] = test['checkIn_date'].dt.day_of_week\n",
    "test['search_date_month'] = test['search_date'].dt.month\n",
    "test['checkIn_date_month'] = test['checkIn_date'].dt.month"
   ]
  },
  {
   "cell_type": "code",
   "execution_count": 173,
   "id": "0b935532",
   "metadata": {},
   "outputs": [
    {
     "data": {
      "text/html": [
       "<div>\n",
       "<style scoped>\n",
       "    .dataframe tbody tr th:only-of-type {\n",
       "        vertical-align: middle;\n",
       "    }\n",
       "\n",
       "    .dataframe tbody tr th {\n",
       "        vertical-align: top;\n",
       "    }\n",
       "\n",
       "    .dataframe thead th {\n",
       "        text-align: right;\n",
       "    }\n",
       "</style>\n",
       "<table border=\"1\" class=\"dataframe\">\n",
       "  <thead>\n",
       "    <tr style=\"text-align: right;\">\n",
       "      <th></th>\n",
       "      <th>user_location_country</th>\n",
       "      <th>user_location_region</th>\n",
       "      <th>user_location_city</th>\n",
       "      <th>destination_distance</th>\n",
       "      <th>search_date</th>\n",
       "      <th>is_mobile</th>\n",
       "      <th>is_package</th>\n",
       "      <th>channel</th>\n",
       "      <th>search_count</th>\n",
       "      <th>checkIn_date</th>\n",
       "      <th>...</th>\n",
       "      <th>hotel_country</th>\n",
       "      <th>hotel_market</th>\n",
       "      <th>hotel_category</th>\n",
       "      <th>duration</th>\n",
       "      <th>days_between</th>\n",
       "      <th>search_date_hour</th>\n",
       "      <th>search_date_dayofweek</th>\n",
       "      <th>checkIn_date_dayofweek</th>\n",
       "      <th>search_date_month</th>\n",
       "      <th>checkIn_date_month</th>\n",
       "    </tr>\n",
       "  </thead>\n",
       "  <tbody>\n",
       "    <tr>\n",
       "      <th>0</th>\n",
       "      <td>215</td>\n",
       "      <td>817</td>\n",
       "      <td>19599</td>\n",
       "      <td>0.0000</td>\n",
       "      <td>2014-12-01 12:23:32</td>\n",
       "      <td>0</td>\n",
       "      <td>0</td>\n",
       "      <td>9</td>\n",
       "      <td>1</td>\n",
       "      <td>2014-12-13</td>\n",
       "      <td>...</td>\n",
       "      <td>50</td>\n",
       "      <td>1107</td>\n",
       "      <td>39</td>\n",
       "      <td>1 days</td>\n",
       "      <td>11 days 11:36:28</td>\n",
       "      <td>12</td>\n",
       "      <td>0</td>\n",
       "      <td>5</td>\n",
       "      <td>12</td>\n",
       "      <td>12</td>\n",
       "    </tr>\n",
       "    <tr>\n",
       "      <th>1</th>\n",
       "      <td>66</td>\n",
       "      <td>321</td>\n",
       "      <td>47535</td>\n",
       "      <td>7322.6527</td>\n",
       "      <td>2014-12-01 13:00:29</td>\n",
       "      <td>0</td>\n",
       "      <td>0</td>\n",
       "      <td>0</td>\n",
       "      <td>1</td>\n",
       "      <td>2014-12-12</td>\n",
       "      <td>...</td>\n",
       "      <td>104</td>\n",
       "      <td>1003</td>\n",
       "      <td>57</td>\n",
       "      <td>1 days</td>\n",
       "      <td>10 days 10:59:31</td>\n",
       "      <td>13</td>\n",
       "      <td>0</td>\n",
       "      <td>4</td>\n",
       "      <td>12</td>\n",
       "      <td>12</td>\n",
       "    </tr>\n",
       "    <tr>\n",
       "      <th>2</th>\n",
       "      <td>109</td>\n",
       "      <td>0</td>\n",
       "      <td>21903</td>\n",
       "      <td>0.0000</td>\n",
       "      <td>2014-12-01 16:04:55</td>\n",
       "      <td>0</td>\n",
       "      <td>1</td>\n",
       "      <td>9</td>\n",
       "      <td>1</td>\n",
       "      <td>2014-12-18</td>\n",
       "      <td>...</td>\n",
       "      <td>70</td>\n",
       "      <td>19</td>\n",
       "      <td>70</td>\n",
       "      <td>1 days</td>\n",
       "      <td>16 days 07:55:05</td>\n",
       "      <td>16</td>\n",
       "      <td>0</td>\n",
       "      <td>3</td>\n",
       "      <td>12</td>\n",
       "      <td>12</td>\n",
       "    </tr>\n",
       "    <tr>\n",
       "      <th>3</th>\n",
       "      <td>66</td>\n",
       "      <td>174</td>\n",
       "      <td>50284</td>\n",
       "      <td>0.0000</td>\n",
       "      <td>2014-12-01 12:31:22</td>\n",
       "      <td>0</td>\n",
       "      <td>0</td>\n",
       "      <td>9</td>\n",
       "      <td>1</td>\n",
       "      <td>2014-12-04</td>\n",
       "      <td>...</td>\n",
       "      <td>50</td>\n",
       "      <td>1230</td>\n",
       "      <td>21</td>\n",
       "      <td>1 days</td>\n",
       "      <td>2 days 11:28:38</td>\n",
       "      <td>12</td>\n",
       "      <td>0</td>\n",
       "      <td>3</td>\n",
       "      <td>12</td>\n",
       "      <td>12</td>\n",
       "    </tr>\n",
       "    <tr>\n",
       "      <th>4</th>\n",
       "      <td>215</td>\n",
       "      <td>646</td>\n",
       "      <td>51733</td>\n",
       "      <td>2045.2943</td>\n",
       "      <td>2014-12-01 11:29:26</td>\n",
       "      <td>0</td>\n",
       "      <td>0</td>\n",
       "      <td>9</td>\n",
       "      <td>1</td>\n",
       "      <td>2014-12-15</td>\n",
       "      <td>...</td>\n",
       "      <td>119</td>\n",
       "      <td>2064</td>\n",
       "      <td>53</td>\n",
       "      <td>4 days</td>\n",
       "      <td>13 days 12:30:34</td>\n",
       "      <td>11</td>\n",
       "      <td>0</td>\n",
       "      <td>0</td>\n",
       "      <td>12</td>\n",
       "      <td>12</td>\n",
       "    </tr>\n",
       "  </tbody>\n",
       "</table>\n",
       "<p>5 rows × 27 columns</p>\n",
       "</div>"
      ],
      "text/plain": [
       "   user_location_country  user_location_region  user_location_city  \\\n",
       "0                    215                   817               19599   \n",
       "1                     66                   321               47535   \n",
       "2                    109                     0               21903   \n",
       "3                     66                   174               50284   \n",
       "4                    215                   646               51733   \n",
       "\n",
       "   destination_distance         search_date  is_mobile  is_package  channel  \\\n",
       "0                0.0000 2014-12-01 12:23:32          0           0        9   \n",
       "1             7322.6527 2014-12-01 13:00:29          0           0        0   \n",
       "2                0.0000 2014-12-01 16:04:55          0           1        9   \n",
       "3                0.0000 2014-12-01 12:31:22          0           0        9   \n",
       "4             2045.2943 2014-12-01 11:29:26          0           0        9   \n",
       "\n",
       "   search_count checkIn_date  ... hotel_country  hotel_market  hotel_category  \\\n",
       "0             1   2014-12-13  ...            50          1107              39   \n",
       "1             1   2014-12-12  ...           104          1003              57   \n",
       "2             1   2014-12-18  ...            70            19              70   \n",
       "3             1   2014-12-04  ...            50          1230              21   \n",
       "4             1   2014-12-15  ...           119          2064              53   \n",
       "\n",
       "   duration     days_between  search_date_hour  search_date_dayofweek  \\\n",
       "0    1 days 11 days 11:36:28                12                      0   \n",
       "1    1 days 10 days 10:59:31                13                      0   \n",
       "2    1 days 16 days 07:55:05                16                      0   \n",
       "3    1 days  2 days 11:28:38                12                      0   \n",
       "4    4 days 13 days 12:30:34                11                      0   \n",
       "\n",
       "   checkIn_date_dayofweek  search_date_month  checkIn_date_month  \n",
       "0                       5                 12                  12  \n",
       "1                       4                 12                  12  \n",
       "2                       3                 12                  12  \n",
       "3                       3                 12                  12  \n",
       "4                       0                 12                  12  \n",
       "\n",
       "[5 rows x 27 columns]"
      ]
     },
     "execution_count": 173,
     "metadata": {},
     "output_type": "execute_result"
    }
   ],
   "source": [
    "test.drop(columns= '', inplace= True)\n",
    "test.head()"
   ]
  },
  {
   "attachments": {},
   "cell_type": "markdown",
   "id": "a7a89f7c-8cf3-4a5b-8f3b-537a6ef98395",
   "metadata": {},
   "source": [
    "<p dir=rtl style=\"direction: rtl; text-align: justify; line-height:200%; font-family:vazir; font-size:medium\">\n",
    "<font face=\"vazir\">\n",
    " حال برای ‌بررسی رابطه‌ی بین ویژگی‌هایی که در مرحله قبل به‌دست آوردیم با متغیر هدف (این‌که جست‌وجو به رزرو هتل منجر شده‌است یا خیر) دو دیتافرم <code>is_booked</code> و <code>not_booked</code> را براساس مجموعه‌داده‌ی آموزش ایجاد کنید، به‌طوری‌که دیتافرم اول فقط نمونه‌هایی که به رزرو ختم شده‌اند و دیتافریم دوم فقط نمونه‌هایی که به رزرو ختم نشده‌اند را شامل شود.\n",
    "</font>\n",
    "</p>\n"
   ]
  },
  {
   "cell_type": "code",
   "execution_count": 174,
   "id": "514c0435-7033-4605-ac4b-8eaeed026ecb",
   "metadata": {},
   "outputs": [],
   "source": [
    "is_booked = train[train['is_booking']==1]\n",
    "not_booked = train[train['is_booking']==0]"
   ]
  },
  {
   "attachments": {},
   "cell_type": "markdown",
   "id": "af7db6f0-73e6-41f8-9f22-0f347d35030a",
   "metadata": {},
   "source": [
    "<h3 align=right style=\"line-height:200%;font-family:vazir;color:#0099cc\">\n",
    "<font face=\"vazir\" color=\"#0099cc\">\n",
    "مصورسازی ۱\n",
    "</font>\n",
    "</h3>\n",
    "\n",
    "<p dir=rtl style=\"direction: rtl; text-align: justify; line-height:200%; font-family:vazir; font-size:medium\">\n",
    "<font face=\"vazir\">\n",
    "اکنون بیاید با استفاده از مصورسازی، بینش‌های بیشتری را از دل این داده‌ها استخراج کنیم.\n",
    "در این مرحله نیاز است یک نمودار میله‌ای رسم کنید تا رابطه‌ی بین درصد جست‌وجو‌هایی که به رزرو هتل ختم شده‌اند و نشده‌اند‌ (هر کدام نسبت به دسته‌ی خودشان) در ساعات مختلف را نشان دهد. \n",
    "</font>\n",
    "</p>\n",
    "\n",
    "<p dir=rtl style=\"direction: rtl; text-align: justify; line-height:200%; font-family:vazir; font-size:medium\">\n",
    "<font face=\"vazir\">\n",
    "خروجی نمودار شما باید شبیه به تصویر زیر باشد.\n",
    "</font>\n",
    "</p>\n",
    "\n",
    "<center>\n",
    "<img src = 'https://quera.org/qbox/view/6TWauQwG58/search_hour.png'>\n",
    "</center>"
   ]
  },
  {
   "cell_type": "code",
   "execution_count": 175,
   "id": "b7daecb1-658f-49c3-8d68-c769988ebb76",
   "metadata": {},
   "outputs": [
    {
     "data": {
      "application/vnd.plotly.v1+json": {
       "config": {
        "plotlyServerURL": "https://plot.ly"
       },
       "data": [
        {
         "name": "Booked",
         "type": "bar",
         "y": {
          "bdata": "RTpViVukkT/wFj9FO3uJP7pTOClfE4Q/9XvaJV/5gj/pG1RtlHqIP3l6VHzRCJM//D/eDRPznT93dkLSVcykP1TEtKbpXqk/095aUlLUrD9VjxnXL8uvPyGsnZ3Tv7A/VwJXDzxQsD/kkF8ORf+vP7SipwDpRa8/t4JpAXejrT8c6kflh+esP+ZKC9yitKw/p/Z6eLQgrD8jwSVfPF6rPzypiPZNI6k/vsfG4ih/pT9ru1mPibqhPzxf3840R5o/",
          "dtype": "f8"
         }
        },
        {
         "name": "Not Booked",
         "type": "bar",
         "y": {
          "bdata": "iEX7pa19lT9e5RPNB12MPzjl/q4EGoU/0o7YCHQDhD/THt8/L/GIPx6bL+krnpI/PwcJ1171mz/96rrJn9GiP0nCWk0EuKY/rIsHuv7gqT8zgykR/qysP/yJyVokLa4/otdZ3k//rT/o0f2F6p6tP/6ogQqnBq0/IheZ5XZbrD8IUcBgnQmtP9Cad+rbHa4/mQWid47Rrj/YPCWDyHeuP3NA+firmKw/J5R6/BZrqT9b5CPHkAWlP+2tM49sOp8/",
          "dtype": "f8"
         }
        }
       ],
       "layout": {
        "template": {
         "data": {
          "bar": [
           {
            "error_x": {
             "color": "#2a3f5f"
            },
            "error_y": {
             "color": "#2a3f5f"
            },
            "marker": {
             "line": {
              "color": "#E5ECF6",
              "width": 0.5
             },
             "pattern": {
              "fillmode": "overlay",
              "size": 10,
              "solidity": 0.2
             }
            },
            "type": "bar"
           }
          ],
          "barpolar": [
           {
            "marker": {
             "line": {
              "color": "#E5ECF6",
              "width": 0.5
             },
             "pattern": {
              "fillmode": "overlay",
              "size": 10,
              "solidity": 0.2
             }
            },
            "type": "barpolar"
           }
          ],
          "carpet": [
           {
            "aaxis": {
             "endlinecolor": "#2a3f5f",
             "gridcolor": "white",
             "linecolor": "white",
             "minorgridcolor": "white",
             "startlinecolor": "#2a3f5f"
            },
            "baxis": {
             "endlinecolor": "#2a3f5f",
             "gridcolor": "white",
             "linecolor": "white",
             "minorgridcolor": "white",
             "startlinecolor": "#2a3f5f"
            },
            "type": "carpet"
           }
          ],
          "choropleth": [
           {
            "colorbar": {
             "outlinewidth": 0,
             "ticks": ""
            },
            "type": "choropleth"
           }
          ],
          "contour": [
           {
            "colorbar": {
             "outlinewidth": 0,
             "ticks": ""
            },
            "colorscale": [
             [
              0,
              "#0d0887"
             ],
             [
              0.1111111111111111,
              "#46039f"
             ],
             [
              0.2222222222222222,
              "#7201a8"
             ],
             [
              0.3333333333333333,
              "#9c179e"
             ],
             [
              0.4444444444444444,
              "#bd3786"
             ],
             [
              0.5555555555555556,
              "#d8576b"
             ],
             [
              0.6666666666666666,
              "#ed7953"
             ],
             [
              0.7777777777777778,
              "#fb9f3a"
             ],
             [
              0.8888888888888888,
              "#fdca26"
             ],
             [
              1,
              "#f0f921"
             ]
            ],
            "type": "contour"
           }
          ],
          "contourcarpet": [
           {
            "colorbar": {
             "outlinewidth": 0,
             "ticks": ""
            },
            "type": "contourcarpet"
           }
          ],
          "heatmap": [
           {
            "colorbar": {
             "outlinewidth": 0,
             "ticks": ""
            },
            "colorscale": [
             [
              0,
              "#0d0887"
             ],
             [
              0.1111111111111111,
              "#46039f"
             ],
             [
              0.2222222222222222,
              "#7201a8"
             ],
             [
              0.3333333333333333,
              "#9c179e"
             ],
             [
              0.4444444444444444,
              "#bd3786"
             ],
             [
              0.5555555555555556,
              "#d8576b"
             ],
             [
              0.6666666666666666,
              "#ed7953"
             ],
             [
              0.7777777777777778,
              "#fb9f3a"
             ],
             [
              0.8888888888888888,
              "#fdca26"
             ],
             [
              1,
              "#f0f921"
             ]
            ],
            "type": "heatmap"
           }
          ],
          "histogram": [
           {
            "marker": {
             "pattern": {
              "fillmode": "overlay",
              "size": 10,
              "solidity": 0.2
             }
            },
            "type": "histogram"
           }
          ],
          "histogram2d": [
           {
            "colorbar": {
             "outlinewidth": 0,
             "ticks": ""
            },
            "colorscale": [
             [
              0,
              "#0d0887"
             ],
             [
              0.1111111111111111,
              "#46039f"
             ],
             [
              0.2222222222222222,
              "#7201a8"
             ],
             [
              0.3333333333333333,
              "#9c179e"
             ],
             [
              0.4444444444444444,
              "#bd3786"
             ],
             [
              0.5555555555555556,
              "#d8576b"
             ],
             [
              0.6666666666666666,
              "#ed7953"
             ],
             [
              0.7777777777777778,
              "#fb9f3a"
             ],
             [
              0.8888888888888888,
              "#fdca26"
             ],
             [
              1,
              "#f0f921"
             ]
            ],
            "type": "histogram2d"
           }
          ],
          "histogram2dcontour": [
           {
            "colorbar": {
             "outlinewidth": 0,
             "ticks": ""
            },
            "colorscale": [
             [
              0,
              "#0d0887"
             ],
             [
              0.1111111111111111,
              "#46039f"
             ],
             [
              0.2222222222222222,
              "#7201a8"
             ],
             [
              0.3333333333333333,
              "#9c179e"
             ],
             [
              0.4444444444444444,
              "#bd3786"
             ],
             [
              0.5555555555555556,
              "#d8576b"
             ],
             [
              0.6666666666666666,
              "#ed7953"
             ],
             [
              0.7777777777777778,
              "#fb9f3a"
             ],
             [
              0.8888888888888888,
              "#fdca26"
             ],
             [
              1,
              "#f0f921"
             ]
            ],
            "type": "histogram2dcontour"
           }
          ],
          "mesh3d": [
           {
            "colorbar": {
             "outlinewidth": 0,
             "ticks": ""
            },
            "type": "mesh3d"
           }
          ],
          "parcoords": [
           {
            "line": {
             "colorbar": {
              "outlinewidth": 0,
              "ticks": ""
             }
            },
            "type": "parcoords"
           }
          ],
          "pie": [
           {
            "automargin": true,
            "type": "pie"
           }
          ],
          "scatter": [
           {
            "fillpattern": {
             "fillmode": "overlay",
             "size": 10,
             "solidity": 0.2
            },
            "type": "scatter"
           }
          ],
          "scatter3d": [
           {
            "line": {
             "colorbar": {
              "outlinewidth": 0,
              "ticks": ""
             }
            },
            "marker": {
             "colorbar": {
              "outlinewidth": 0,
              "ticks": ""
             }
            },
            "type": "scatter3d"
           }
          ],
          "scattercarpet": [
           {
            "marker": {
             "colorbar": {
              "outlinewidth": 0,
              "ticks": ""
             }
            },
            "type": "scattercarpet"
           }
          ],
          "scattergeo": [
           {
            "marker": {
             "colorbar": {
              "outlinewidth": 0,
              "ticks": ""
             }
            },
            "type": "scattergeo"
           }
          ],
          "scattergl": [
           {
            "marker": {
             "colorbar": {
              "outlinewidth": 0,
              "ticks": ""
             }
            },
            "type": "scattergl"
           }
          ],
          "scattermap": [
           {
            "marker": {
             "colorbar": {
              "outlinewidth": 0,
              "ticks": ""
             }
            },
            "type": "scattermap"
           }
          ],
          "scattermapbox": [
           {
            "marker": {
             "colorbar": {
              "outlinewidth": 0,
              "ticks": ""
             }
            },
            "type": "scattermapbox"
           }
          ],
          "scatterpolar": [
           {
            "marker": {
             "colorbar": {
              "outlinewidth": 0,
              "ticks": ""
             }
            },
            "type": "scatterpolar"
           }
          ],
          "scatterpolargl": [
           {
            "marker": {
             "colorbar": {
              "outlinewidth": 0,
              "ticks": ""
             }
            },
            "type": "scatterpolargl"
           }
          ],
          "scatterternary": [
           {
            "marker": {
             "colorbar": {
              "outlinewidth": 0,
              "ticks": ""
             }
            },
            "type": "scatterternary"
           }
          ],
          "surface": [
           {
            "colorbar": {
             "outlinewidth": 0,
             "ticks": ""
            },
            "colorscale": [
             [
              0,
              "#0d0887"
             ],
             [
              0.1111111111111111,
              "#46039f"
             ],
             [
              0.2222222222222222,
              "#7201a8"
             ],
             [
              0.3333333333333333,
              "#9c179e"
             ],
             [
              0.4444444444444444,
              "#bd3786"
             ],
             [
              0.5555555555555556,
              "#d8576b"
             ],
             [
              0.6666666666666666,
              "#ed7953"
             ],
             [
              0.7777777777777778,
              "#fb9f3a"
             ],
             [
              0.8888888888888888,
              "#fdca26"
             ],
             [
              1,
              "#f0f921"
             ]
            ],
            "type": "surface"
           }
          ],
          "table": [
           {
            "cells": {
             "fill": {
              "color": "#EBF0F8"
             },
             "line": {
              "color": "white"
             }
            },
            "header": {
             "fill": {
              "color": "#C8D4E3"
             },
             "line": {
              "color": "white"
             }
            },
            "type": "table"
           }
          ]
         },
         "layout": {
          "annotationdefaults": {
           "arrowcolor": "#2a3f5f",
           "arrowhead": 0,
           "arrowwidth": 1
          },
          "autotypenumbers": "strict",
          "coloraxis": {
           "colorbar": {
            "outlinewidth": 0,
            "ticks": ""
           }
          },
          "colorscale": {
           "diverging": [
            [
             0,
             "#8e0152"
            ],
            [
             0.1,
             "#c51b7d"
            ],
            [
             0.2,
             "#de77ae"
            ],
            [
             0.3,
             "#f1b6da"
            ],
            [
             0.4,
             "#fde0ef"
            ],
            [
             0.5,
             "#f7f7f7"
            ],
            [
             0.6,
             "#e6f5d0"
            ],
            [
             0.7,
             "#b8e186"
            ],
            [
             0.8,
             "#7fbc41"
            ],
            [
             0.9,
             "#4d9221"
            ],
            [
             1,
             "#276419"
            ]
           ],
           "sequential": [
            [
             0,
             "#0d0887"
            ],
            [
             0.1111111111111111,
             "#46039f"
            ],
            [
             0.2222222222222222,
             "#7201a8"
            ],
            [
             0.3333333333333333,
             "#9c179e"
            ],
            [
             0.4444444444444444,
             "#bd3786"
            ],
            [
             0.5555555555555556,
             "#d8576b"
            ],
            [
             0.6666666666666666,
             "#ed7953"
            ],
            [
             0.7777777777777778,
             "#fb9f3a"
            ],
            [
             0.8888888888888888,
             "#fdca26"
            ],
            [
             1,
             "#f0f921"
            ]
           ],
           "sequentialminus": [
            [
             0,
             "#0d0887"
            ],
            [
             0.1111111111111111,
             "#46039f"
            ],
            [
             0.2222222222222222,
             "#7201a8"
            ],
            [
             0.3333333333333333,
             "#9c179e"
            ],
            [
             0.4444444444444444,
             "#bd3786"
            ],
            [
             0.5555555555555556,
             "#d8576b"
            ],
            [
             0.6666666666666666,
             "#ed7953"
            ],
            [
             0.7777777777777778,
             "#fb9f3a"
            ],
            [
             0.8888888888888888,
             "#fdca26"
            ],
            [
             1,
             "#f0f921"
            ]
           ]
          },
          "colorway": [
           "#636efa",
           "#EF553B",
           "#00cc96",
           "#ab63fa",
           "#FFA15A",
           "#19d3f3",
           "#FF6692",
           "#B6E880",
           "#FF97FF",
           "#FECB52"
          ],
          "font": {
           "color": "#2a3f5f"
          },
          "geo": {
           "bgcolor": "white",
           "lakecolor": "white",
           "landcolor": "#E5ECF6",
           "showlakes": true,
           "showland": true,
           "subunitcolor": "white"
          },
          "hoverlabel": {
           "align": "left"
          },
          "hovermode": "closest",
          "mapbox": {
           "style": "light"
          },
          "paper_bgcolor": "white",
          "plot_bgcolor": "#E5ECF6",
          "polar": {
           "angularaxis": {
            "gridcolor": "white",
            "linecolor": "white",
            "ticks": ""
           },
           "bgcolor": "#E5ECF6",
           "radialaxis": {
            "gridcolor": "white",
            "linecolor": "white",
            "ticks": ""
           }
          },
          "scene": {
           "xaxis": {
            "backgroundcolor": "#E5ECF6",
            "gridcolor": "white",
            "gridwidth": 2,
            "linecolor": "white",
            "showbackground": true,
            "ticks": "",
            "zerolinecolor": "white"
           },
           "yaxis": {
            "backgroundcolor": "#E5ECF6",
            "gridcolor": "white",
            "gridwidth": 2,
            "linecolor": "white",
            "showbackground": true,
            "ticks": "",
            "zerolinecolor": "white"
           },
           "zaxis": {
            "backgroundcolor": "#E5ECF6",
            "gridcolor": "white",
            "gridwidth": 2,
            "linecolor": "white",
            "showbackground": true,
            "ticks": "",
            "zerolinecolor": "white"
           }
          },
          "shapedefaults": {
           "line": {
            "color": "#2a3f5f"
           }
          },
          "ternary": {
           "aaxis": {
            "gridcolor": "white",
            "linecolor": "white",
            "ticks": ""
           },
           "baxis": {
            "gridcolor": "white",
            "linecolor": "white",
            "ticks": ""
           },
           "bgcolor": "#E5ECF6",
           "caxis": {
            "gridcolor": "white",
            "linecolor": "white",
            "ticks": ""
           }
          },
          "title": {
           "x": 0.05
          },
          "xaxis": {
           "automargin": true,
           "gridcolor": "white",
           "linecolor": "white",
           "ticks": "",
           "title": {
            "standoff": 15
           },
           "zerolinecolor": "white",
           "zerolinewidth": 2
          },
          "yaxis": {
           "automargin": true,
           "gridcolor": "white",
           "linecolor": "white",
           "ticks": "",
           "title": {
            "standoff": 15
           },
           "zerolinecolor": "white",
           "zerolinewidth": 2
          }
         }
        },
        "xaxis": {
         "automargin": true,
         "tickangle": 45,
         "title": {
          "text": "Search Hour"
         }
        },
        "yaxis": {
         "title": {
          "text": "Frequency"
         }
        }
       }
      }
     },
     "metadata": {},
     "output_type": "display_data"
    }
   ],
   "source": [
    "import plotly.graph_objects as go\n",
    "\n",
    "trace_not_booked = go.Bar(y = not_booked['search_date_hour'].value_counts().sort_index()/len(not_booked) , name='Not Booked') # TODO\n",
    "trace_is_booked = go.Bar(y = is_booked['search_date_hour'].value_counts().sort_index()/len(is_booked) , name='Booked') # TODO\n",
    "\n",
    "# در ادامه‌ی این قسمت از کد تغییری ایجاد نکنید زیرا نمودار شما توسط سیستم داوری بررسی می‌شود و تغییر در این قسمت ممکن است باعث عدم داوری صحیح شود\n",
    "\n",
    "data = [trace_is_booked, trace_not_booked]\n",
    "\n",
    "layout = go.Layout(\n",
    "    xaxis=dict(title='Search Hour', tickangle=45, automargin=True),\n",
    "    yaxis=dict(title='Frequency')\n",
    ")\n",
    "\n",
    "fig = go.Figure(data=data, layout=layout)\n",
    "fig.show()\n",
    "fig.write_json('./search_hour.json')"
   ]
  },
  {
   "attachments": {},
   "cell_type": "markdown",
   "id": "baeba698-b02f-4b0e-85da-2602e4231b8f",
   "metadata": {},
   "source": [
    "\n",
    "<p dir=rtl style=\"direction: rtl; text-align: justify; line-height:200%; font-family:vazir; font-size:medium\">\n",
    "<font face=\"vazir\">\n",
    "در این مرحله می‌توانید با توجه به زمان‌های مختلفی که جست‌وجو در آن انجام شده و رابطه‌ی بین آن با رزرو هتل، مقادیر این ستون را به دسته‌های کوچک‌تری افراز کنید (binning).\n",
    "          به‌طور مثال به نمونه‌هایی که در آن‌ها جست‌وجو بین ساعت ۵ تا ۱۵ انجام شده‌است، مقدار <code>1</code>\n",
    "          </font> دهید و به بقیه نمونه‌ها مقدار  <code>0</code> دهید. این عمل یک نوع مهندسی ویژگی به شمار می‌آید. توجه کنید این دسته‌بندی اختیاری بوده است و به‌طور مستقیم داوری نمی‌شود، اما ممکن است در عملکرد مدل شما تاثیر (مثبت یا منفی!) بگذارد، همچنین برای سایر ستون‌ها و ویژگی‌ها نیز با خلاقیت خودتان می‌توانید ویژگی‌های جدیدی خلق کنید.\n",
    "</p>\n",
    "\n"
   ]
  },
  {
   "cell_type": "code",
   "execution_count": 176,
   "id": "40206e40-ba5c-4cc6-9f5b-deb9fea5e299",
   "metadata": {},
   "outputs": [],
   "source": [
    "# TODO: Make Bins for search_date_hour (Optional)"
   ]
  },
  {
   "attachments": {},
   "cell_type": "markdown",
   "id": "e98bb936-d368-4029-94ef-c95a7228d6d6",
   "metadata": {},
   "source": [
    "<h3 align=right style=\"line-height:200%;font-family:vazir;color:#0099cc\">\n",
    "<font face=\"vazir\" color=\"#0099cc\">\n",
    "مصورسازی ۲\n",
    "</font>\n",
    "</h3>\n",
    "\n",
    "<p dir=rtl style=\"direction: rtl; text-align: justify; line-height:200%; font-family:vazir; font-size:medium\">\n",
    "<font face=\"vazir\">\n",
    "همانند نمودار قبل برای روز ورود به هتل  نیز نمودار را رسم کنید. دقت داشته باشید روز‌های هفته به‌صورت، دوشنبه، سه‌شنبه تا شنبه و به همین ترتیب باشد. به رعایت نیم‌فاصله در اسامی روزها توجه داشته باشید. کلمه‌ی سه‌شنبه و پنج‌شنبه دارای نیم‌فاصله است.\n",
    "</font>\n",
    "</p>\n",
    "\n",
    "<p dir=rtl style=\"direction: rtl; text-align: justify; line-height:200%; font-family:vazir; font-size:medium\">\n",
    "<font face=\"vazir\">\n",
    "خروجی نمودار شما باید به‌صورت زیر باشد.\n",
    "</font>\n",
    "</p>\n",
    "\n",
    "<center>\n",
    "<img src = 'https://quera.org/qbox/view/jqISJX07yD/checkIn_day.png'>\n",
    "</center>\n"
   ]
  },
  {
   "cell_type": "code",
   "execution_count": 177,
   "id": "31c0e5d7-5c45-4263-8e46-ddb04ddef3ce",
   "metadata": {},
   "outputs": [
    {
     "data": {
      "application/vnd.plotly.v1+json": {
       "config": {
        "plotlyServerURL": "https://plot.ly"
       },
       "data": [
        {
         "name": "Booked",
         "type": "bar",
         "y": {
          "bdata": "jQ5nWYsEwT/I7fP6Kkq/PyX9AT5MhsA/zFEyLaSNwj9sYYvRQGPHP12gylq2S8Q/1KmUkXeTwD8=",
          "dtype": "f8"
         }
        },
        {
         "name": "Not Booked",
         "type": "bar",
         "y": {
          "bdata": "yQ7zMe9Kvj9XiQFyIgi8P7zjFIJVU8A/TDoZ6g+Qwz9Kde0YY0TJP7ac5/YpwMU/zwcFZAndvz8=",
          "dtype": "f8"
         }
        }
       ],
       "layout": {
        "template": {
         "data": {
          "bar": [
           {
            "error_x": {
             "color": "#2a3f5f"
            },
            "error_y": {
             "color": "#2a3f5f"
            },
            "marker": {
             "line": {
              "color": "#E5ECF6",
              "width": 0.5
             },
             "pattern": {
              "fillmode": "overlay",
              "size": 10,
              "solidity": 0.2
             }
            },
            "type": "bar"
           }
          ],
          "barpolar": [
           {
            "marker": {
             "line": {
              "color": "#E5ECF6",
              "width": 0.5
             },
             "pattern": {
              "fillmode": "overlay",
              "size": 10,
              "solidity": 0.2
             }
            },
            "type": "barpolar"
           }
          ],
          "carpet": [
           {
            "aaxis": {
             "endlinecolor": "#2a3f5f",
             "gridcolor": "white",
             "linecolor": "white",
             "minorgridcolor": "white",
             "startlinecolor": "#2a3f5f"
            },
            "baxis": {
             "endlinecolor": "#2a3f5f",
             "gridcolor": "white",
             "linecolor": "white",
             "minorgridcolor": "white",
             "startlinecolor": "#2a3f5f"
            },
            "type": "carpet"
           }
          ],
          "choropleth": [
           {
            "colorbar": {
             "outlinewidth": 0,
             "ticks": ""
            },
            "type": "choropleth"
           }
          ],
          "contour": [
           {
            "colorbar": {
             "outlinewidth": 0,
             "ticks": ""
            },
            "colorscale": [
             [
              0,
              "#0d0887"
             ],
             [
              0.1111111111111111,
              "#46039f"
             ],
             [
              0.2222222222222222,
              "#7201a8"
             ],
             [
              0.3333333333333333,
              "#9c179e"
             ],
             [
              0.4444444444444444,
              "#bd3786"
             ],
             [
              0.5555555555555556,
              "#d8576b"
             ],
             [
              0.6666666666666666,
              "#ed7953"
             ],
             [
              0.7777777777777778,
              "#fb9f3a"
             ],
             [
              0.8888888888888888,
              "#fdca26"
             ],
             [
              1,
              "#f0f921"
             ]
            ],
            "type": "contour"
           }
          ],
          "contourcarpet": [
           {
            "colorbar": {
             "outlinewidth": 0,
             "ticks": ""
            },
            "type": "contourcarpet"
           }
          ],
          "heatmap": [
           {
            "colorbar": {
             "outlinewidth": 0,
             "ticks": ""
            },
            "colorscale": [
             [
              0,
              "#0d0887"
             ],
             [
              0.1111111111111111,
              "#46039f"
             ],
             [
              0.2222222222222222,
              "#7201a8"
             ],
             [
              0.3333333333333333,
              "#9c179e"
             ],
             [
              0.4444444444444444,
              "#bd3786"
             ],
             [
              0.5555555555555556,
              "#d8576b"
             ],
             [
              0.6666666666666666,
              "#ed7953"
             ],
             [
              0.7777777777777778,
              "#fb9f3a"
             ],
             [
              0.8888888888888888,
              "#fdca26"
             ],
             [
              1,
              "#f0f921"
             ]
            ],
            "type": "heatmap"
           }
          ],
          "histogram": [
           {
            "marker": {
             "pattern": {
              "fillmode": "overlay",
              "size": 10,
              "solidity": 0.2
             }
            },
            "type": "histogram"
           }
          ],
          "histogram2d": [
           {
            "colorbar": {
             "outlinewidth": 0,
             "ticks": ""
            },
            "colorscale": [
             [
              0,
              "#0d0887"
             ],
             [
              0.1111111111111111,
              "#46039f"
             ],
             [
              0.2222222222222222,
              "#7201a8"
             ],
             [
              0.3333333333333333,
              "#9c179e"
             ],
             [
              0.4444444444444444,
              "#bd3786"
             ],
             [
              0.5555555555555556,
              "#d8576b"
             ],
             [
              0.6666666666666666,
              "#ed7953"
             ],
             [
              0.7777777777777778,
              "#fb9f3a"
             ],
             [
              0.8888888888888888,
              "#fdca26"
             ],
             [
              1,
              "#f0f921"
             ]
            ],
            "type": "histogram2d"
           }
          ],
          "histogram2dcontour": [
           {
            "colorbar": {
             "outlinewidth": 0,
             "ticks": ""
            },
            "colorscale": [
             [
              0,
              "#0d0887"
             ],
             [
              0.1111111111111111,
              "#46039f"
             ],
             [
              0.2222222222222222,
              "#7201a8"
             ],
             [
              0.3333333333333333,
              "#9c179e"
             ],
             [
              0.4444444444444444,
              "#bd3786"
             ],
             [
              0.5555555555555556,
              "#d8576b"
             ],
             [
              0.6666666666666666,
              "#ed7953"
             ],
             [
              0.7777777777777778,
              "#fb9f3a"
             ],
             [
              0.8888888888888888,
              "#fdca26"
             ],
             [
              1,
              "#f0f921"
             ]
            ],
            "type": "histogram2dcontour"
           }
          ],
          "mesh3d": [
           {
            "colorbar": {
             "outlinewidth": 0,
             "ticks": ""
            },
            "type": "mesh3d"
           }
          ],
          "parcoords": [
           {
            "line": {
             "colorbar": {
              "outlinewidth": 0,
              "ticks": ""
             }
            },
            "type": "parcoords"
           }
          ],
          "pie": [
           {
            "automargin": true,
            "type": "pie"
           }
          ],
          "scatter": [
           {
            "fillpattern": {
             "fillmode": "overlay",
             "size": 10,
             "solidity": 0.2
            },
            "type": "scatter"
           }
          ],
          "scatter3d": [
           {
            "line": {
             "colorbar": {
              "outlinewidth": 0,
              "ticks": ""
             }
            },
            "marker": {
             "colorbar": {
              "outlinewidth": 0,
              "ticks": ""
             }
            },
            "type": "scatter3d"
           }
          ],
          "scattercarpet": [
           {
            "marker": {
             "colorbar": {
              "outlinewidth": 0,
              "ticks": ""
             }
            },
            "type": "scattercarpet"
           }
          ],
          "scattergeo": [
           {
            "marker": {
             "colorbar": {
              "outlinewidth": 0,
              "ticks": ""
             }
            },
            "type": "scattergeo"
           }
          ],
          "scattergl": [
           {
            "marker": {
             "colorbar": {
              "outlinewidth": 0,
              "ticks": ""
             }
            },
            "type": "scattergl"
           }
          ],
          "scattermap": [
           {
            "marker": {
             "colorbar": {
              "outlinewidth": 0,
              "ticks": ""
             }
            },
            "type": "scattermap"
           }
          ],
          "scattermapbox": [
           {
            "marker": {
             "colorbar": {
              "outlinewidth": 0,
              "ticks": ""
             }
            },
            "type": "scattermapbox"
           }
          ],
          "scatterpolar": [
           {
            "marker": {
             "colorbar": {
              "outlinewidth": 0,
              "ticks": ""
             }
            },
            "type": "scatterpolar"
           }
          ],
          "scatterpolargl": [
           {
            "marker": {
             "colorbar": {
              "outlinewidth": 0,
              "ticks": ""
             }
            },
            "type": "scatterpolargl"
           }
          ],
          "scatterternary": [
           {
            "marker": {
             "colorbar": {
              "outlinewidth": 0,
              "ticks": ""
             }
            },
            "type": "scatterternary"
           }
          ],
          "surface": [
           {
            "colorbar": {
             "outlinewidth": 0,
             "ticks": ""
            },
            "colorscale": [
             [
              0,
              "#0d0887"
             ],
             [
              0.1111111111111111,
              "#46039f"
             ],
             [
              0.2222222222222222,
              "#7201a8"
             ],
             [
              0.3333333333333333,
              "#9c179e"
             ],
             [
              0.4444444444444444,
              "#bd3786"
             ],
             [
              0.5555555555555556,
              "#d8576b"
             ],
             [
              0.6666666666666666,
              "#ed7953"
             ],
             [
              0.7777777777777778,
              "#fb9f3a"
             ],
             [
              0.8888888888888888,
              "#fdca26"
             ],
             [
              1,
              "#f0f921"
             ]
            ],
            "type": "surface"
           }
          ],
          "table": [
           {
            "cells": {
             "fill": {
              "color": "#EBF0F8"
             },
             "line": {
              "color": "white"
             }
            },
            "header": {
             "fill": {
              "color": "#C8D4E3"
             },
             "line": {
              "color": "white"
             }
            },
            "type": "table"
           }
          ]
         },
         "layout": {
          "annotationdefaults": {
           "arrowcolor": "#2a3f5f",
           "arrowhead": 0,
           "arrowwidth": 1
          },
          "autotypenumbers": "strict",
          "coloraxis": {
           "colorbar": {
            "outlinewidth": 0,
            "ticks": ""
           }
          },
          "colorscale": {
           "diverging": [
            [
             0,
             "#8e0152"
            ],
            [
             0.1,
             "#c51b7d"
            ],
            [
             0.2,
             "#de77ae"
            ],
            [
             0.3,
             "#f1b6da"
            ],
            [
             0.4,
             "#fde0ef"
            ],
            [
             0.5,
             "#f7f7f7"
            ],
            [
             0.6,
             "#e6f5d0"
            ],
            [
             0.7,
             "#b8e186"
            ],
            [
             0.8,
             "#7fbc41"
            ],
            [
             0.9,
             "#4d9221"
            ],
            [
             1,
             "#276419"
            ]
           ],
           "sequential": [
            [
             0,
             "#0d0887"
            ],
            [
             0.1111111111111111,
             "#46039f"
            ],
            [
             0.2222222222222222,
             "#7201a8"
            ],
            [
             0.3333333333333333,
             "#9c179e"
            ],
            [
             0.4444444444444444,
             "#bd3786"
            ],
            [
             0.5555555555555556,
             "#d8576b"
            ],
            [
             0.6666666666666666,
             "#ed7953"
            ],
            [
             0.7777777777777778,
             "#fb9f3a"
            ],
            [
             0.8888888888888888,
             "#fdca26"
            ],
            [
             1,
             "#f0f921"
            ]
           ],
           "sequentialminus": [
            [
             0,
             "#0d0887"
            ],
            [
             0.1111111111111111,
             "#46039f"
            ],
            [
             0.2222222222222222,
             "#7201a8"
            ],
            [
             0.3333333333333333,
             "#9c179e"
            ],
            [
             0.4444444444444444,
             "#bd3786"
            ],
            [
             0.5555555555555556,
             "#d8576b"
            ],
            [
             0.6666666666666666,
             "#ed7953"
            ],
            [
             0.7777777777777778,
             "#fb9f3a"
            ],
            [
             0.8888888888888888,
             "#fdca26"
            ],
            [
             1,
             "#f0f921"
            ]
           ]
          },
          "colorway": [
           "#636efa",
           "#EF553B",
           "#00cc96",
           "#ab63fa",
           "#FFA15A",
           "#19d3f3",
           "#FF6692",
           "#B6E880",
           "#FF97FF",
           "#FECB52"
          ],
          "font": {
           "color": "#2a3f5f"
          },
          "geo": {
           "bgcolor": "white",
           "lakecolor": "white",
           "landcolor": "#E5ECF6",
           "showlakes": true,
           "showland": true,
           "subunitcolor": "white"
          },
          "hoverlabel": {
           "align": "left"
          },
          "hovermode": "closest",
          "mapbox": {
           "style": "light"
          },
          "paper_bgcolor": "white",
          "plot_bgcolor": "#E5ECF6",
          "polar": {
           "angularaxis": {
            "gridcolor": "white",
            "linecolor": "white",
            "ticks": ""
           },
           "bgcolor": "#E5ECF6",
           "radialaxis": {
            "gridcolor": "white",
            "linecolor": "white",
            "ticks": ""
           }
          },
          "scene": {
           "xaxis": {
            "backgroundcolor": "#E5ECF6",
            "gridcolor": "white",
            "gridwidth": 2,
            "linecolor": "white",
            "showbackground": true,
            "ticks": "",
            "zerolinecolor": "white"
           },
           "yaxis": {
            "backgroundcolor": "#E5ECF6",
            "gridcolor": "white",
            "gridwidth": 2,
            "linecolor": "white",
            "showbackground": true,
            "ticks": "",
            "zerolinecolor": "white"
           },
           "zaxis": {
            "backgroundcolor": "#E5ECF6",
            "gridcolor": "white",
            "gridwidth": 2,
            "linecolor": "white",
            "showbackground": true,
            "ticks": "",
            "zerolinecolor": "white"
           }
          },
          "shapedefaults": {
           "line": {
            "color": "#2a3f5f"
           }
          },
          "ternary": {
           "aaxis": {
            "gridcolor": "white",
            "linecolor": "white",
            "ticks": ""
           },
           "baxis": {
            "gridcolor": "white",
            "linecolor": "white",
            "ticks": ""
           },
           "bgcolor": "#E5ECF6",
           "caxis": {
            "gridcolor": "white",
            "linecolor": "white",
            "ticks": ""
           }
          },
          "title": {
           "x": 0.05
          },
          "xaxis": {
           "automargin": true,
           "gridcolor": "white",
           "linecolor": "white",
           "ticks": "",
           "title": {
            "standoff": 15
           },
           "zerolinecolor": "white",
           "zerolinewidth": 2
          },
          "yaxis": {
           "automargin": true,
           "gridcolor": "white",
           "linecolor": "white",
           "ticks": "",
           "title": {
            "standoff": 15
           },
           "zerolinecolor": "white",
           "zerolinewidth": 2
          }
         }
        },
        "xaxis": {
         "automargin": true,
         "tickangle": 45,
         "ticktext": [
          "دوشنبه",
          "سه‌شنبه",
          "چهارشنبه",
          "پنج‌شنبه",
          "جمعه",
          "شنبه",
          "یکشنبه"
         ],
         "tickvals": [
          0,
          1,
          2,
          3,
          4,
          5,
          6
         ],
         "title": {
          "text": "Day of Week"
         }
        },
        "yaxis": {
         "title": {
          "text": "Frequency"
         }
        }
       }
      }
     },
     "metadata": {},
     "output_type": "display_data"
    }
   ],
   "source": [
    "trace_not_booked = go.Bar(y = not_booked['checkIn_date_dayofweek'].value_counts().sort_index()/len(not_booked) , name= 'Not Booked') # TODO\n",
    "trace_is_booked = go.Bar(y = is_booked['checkIn_date_dayofweek'].value_counts().sort_index()/len(is_booked) , name='Booked') # TODO\n",
    "\n",
    "ticktext = ['دوشنبه', 'سه‌شنبه', 'چهارشنبه', 'پنج‌شنبه', 'جمعه', 'شنبه', 'یکشنبه']\n",
    "\n",
    "# در ادامه‌ی این قسمت از کد تغییری ایجاد نکنید زیرا نمودار شما توسط سیستم داوری بررسی می‌شود و تغییر در این قسمت ممکن است باعث عدم داوری صحیح شود\n",
    "\n",
    "data = [trace_is_booked, trace_not_booked]\n",
    "\n",
    "layout = go.Layout(\n",
    "    xaxis=dict(title='Day of Week', tickangle=45, automargin=True,\n",
    "               tickvals = [0,1,2,3,4,5,6], ticktext= ticktext\n",
    " ),\n",
    "    yaxis=dict(title='Frequency'),\n",
    ")\n",
    "\n",
    "fig = go.Figure(data=data, layout=layout)\n",
    "fig.show()\n",
    "fig.write_json('./checkIn_day.json')"
   ]
  },
  {
   "attachments": {},
   "cell_type": "markdown",
   "id": "0414f88d",
   "metadata": {},
   "source": [
    "<h3 align=right style=\"line-height:200%;font-family:vazir;color:#0099cc\">\n",
    "<font face=\"vazir\" color=\"#0099cc\">\n",
    "مصورسازی ۳\n",
    "</font>\n",
    "</h3>\n",
    "\n",
    "<p dir=rtl style=\"direction: rtl; text-align: justify; line-height:200%; font-family:vazir; font-size:medium\">\n",
    "<font face=\"vazir\">\n",
    "همانند نمودار قبل برای ماه ورود نیز نمودار را رسم کنید.\n",
    "</font>\n",
    "</p>\n",
    "\n",
    "<p dir=rtl style=\"direction: rtl; text-align: justify; line-height:200%; font-family:vazir; font-size:medium\">\n",
    "<font face=\"vazir\">\n",
    "خروجی نمودار شما باید مشابه با تصویر زیر باشد.\n",
    "</font>\n",
    "</p>\n",
    "\n",
    "<center>\n",
    "<img src = 'https://quera.org/qbox/view/vdWwvplc3K/checkIn_date_month.png'>\n",
    "</center>"
   ]
  },
  {
   "cell_type": "code",
   "execution_count": 178,
   "id": "16e298c2-adcc-495c-9385-2beb32e46211",
   "metadata": {},
   "outputs": [
    {
     "data": {
      "application/vnd.plotly.v1+json": {
       "config": {
        "plotlyServerURL": "https://plot.ly"
       },
       "data": [
        {
         "name": "Booked",
         "type": "bar",
         "y": {
          "bdata": "oKBkNBqOqj/uEjnIrJKwP9jCtJNSGLQ/6BnRLk0GtD+k8Cjb7MS2P5M+4dP+RLY/c1uTZEZ/tz+2Su5Ey2C5P/P3JtZlErY/9kVcEQSBuD+AGo5Rjs24PzqSccmwvLQ/",
          "dtype": "f8"
         }
        },
        {
         "name": "Not Booked",
         "type": "bar",
         "y": {
          "bdata": "xsy4xKizpT/FvUstdyurP9oiMpWHDLM/O7We1lQqsz9sT5JniZC1P4MvouQSS7Y/bMqRSdO9uT96NhDwAoG8PzSkkxQ8vbU/Yq4Dg3X9tz8pTBW9fBG4PxLEqcDycrk/",
          "dtype": "f8"
         }
        }
       ],
       "layout": {
        "template": {
         "data": {
          "bar": [
           {
            "error_x": {
             "color": "#2a3f5f"
            },
            "error_y": {
             "color": "#2a3f5f"
            },
            "marker": {
             "line": {
              "color": "#E5ECF6",
              "width": 0.5
             },
             "pattern": {
              "fillmode": "overlay",
              "size": 10,
              "solidity": 0.2
             }
            },
            "type": "bar"
           }
          ],
          "barpolar": [
           {
            "marker": {
             "line": {
              "color": "#E5ECF6",
              "width": 0.5
             },
             "pattern": {
              "fillmode": "overlay",
              "size": 10,
              "solidity": 0.2
             }
            },
            "type": "barpolar"
           }
          ],
          "carpet": [
           {
            "aaxis": {
             "endlinecolor": "#2a3f5f",
             "gridcolor": "white",
             "linecolor": "white",
             "minorgridcolor": "white",
             "startlinecolor": "#2a3f5f"
            },
            "baxis": {
             "endlinecolor": "#2a3f5f",
             "gridcolor": "white",
             "linecolor": "white",
             "minorgridcolor": "white",
             "startlinecolor": "#2a3f5f"
            },
            "type": "carpet"
           }
          ],
          "choropleth": [
           {
            "colorbar": {
             "outlinewidth": 0,
             "ticks": ""
            },
            "type": "choropleth"
           }
          ],
          "contour": [
           {
            "colorbar": {
             "outlinewidth": 0,
             "ticks": ""
            },
            "colorscale": [
             [
              0,
              "#0d0887"
             ],
             [
              0.1111111111111111,
              "#46039f"
             ],
             [
              0.2222222222222222,
              "#7201a8"
             ],
             [
              0.3333333333333333,
              "#9c179e"
             ],
             [
              0.4444444444444444,
              "#bd3786"
             ],
             [
              0.5555555555555556,
              "#d8576b"
             ],
             [
              0.6666666666666666,
              "#ed7953"
             ],
             [
              0.7777777777777778,
              "#fb9f3a"
             ],
             [
              0.8888888888888888,
              "#fdca26"
             ],
             [
              1,
              "#f0f921"
             ]
            ],
            "type": "contour"
           }
          ],
          "contourcarpet": [
           {
            "colorbar": {
             "outlinewidth": 0,
             "ticks": ""
            },
            "type": "contourcarpet"
           }
          ],
          "heatmap": [
           {
            "colorbar": {
             "outlinewidth": 0,
             "ticks": ""
            },
            "colorscale": [
             [
              0,
              "#0d0887"
             ],
             [
              0.1111111111111111,
              "#46039f"
             ],
             [
              0.2222222222222222,
              "#7201a8"
             ],
             [
              0.3333333333333333,
              "#9c179e"
             ],
             [
              0.4444444444444444,
              "#bd3786"
             ],
             [
              0.5555555555555556,
              "#d8576b"
             ],
             [
              0.6666666666666666,
              "#ed7953"
             ],
             [
              0.7777777777777778,
              "#fb9f3a"
             ],
             [
              0.8888888888888888,
              "#fdca26"
             ],
             [
              1,
              "#f0f921"
             ]
            ],
            "type": "heatmap"
           }
          ],
          "histogram": [
           {
            "marker": {
             "pattern": {
              "fillmode": "overlay",
              "size": 10,
              "solidity": 0.2
             }
            },
            "type": "histogram"
           }
          ],
          "histogram2d": [
           {
            "colorbar": {
             "outlinewidth": 0,
             "ticks": ""
            },
            "colorscale": [
             [
              0,
              "#0d0887"
             ],
             [
              0.1111111111111111,
              "#46039f"
             ],
             [
              0.2222222222222222,
              "#7201a8"
             ],
             [
              0.3333333333333333,
              "#9c179e"
             ],
             [
              0.4444444444444444,
              "#bd3786"
             ],
             [
              0.5555555555555556,
              "#d8576b"
             ],
             [
              0.6666666666666666,
              "#ed7953"
             ],
             [
              0.7777777777777778,
              "#fb9f3a"
             ],
             [
              0.8888888888888888,
              "#fdca26"
             ],
             [
              1,
              "#f0f921"
             ]
            ],
            "type": "histogram2d"
           }
          ],
          "histogram2dcontour": [
           {
            "colorbar": {
             "outlinewidth": 0,
             "ticks": ""
            },
            "colorscale": [
             [
              0,
              "#0d0887"
             ],
             [
              0.1111111111111111,
              "#46039f"
             ],
             [
              0.2222222222222222,
              "#7201a8"
             ],
             [
              0.3333333333333333,
              "#9c179e"
             ],
             [
              0.4444444444444444,
              "#bd3786"
             ],
             [
              0.5555555555555556,
              "#d8576b"
             ],
             [
              0.6666666666666666,
              "#ed7953"
             ],
             [
              0.7777777777777778,
              "#fb9f3a"
             ],
             [
              0.8888888888888888,
              "#fdca26"
             ],
             [
              1,
              "#f0f921"
             ]
            ],
            "type": "histogram2dcontour"
           }
          ],
          "mesh3d": [
           {
            "colorbar": {
             "outlinewidth": 0,
             "ticks": ""
            },
            "type": "mesh3d"
           }
          ],
          "parcoords": [
           {
            "line": {
             "colorbar": {
              "outlinewidth": 0,
              "ticks": ""
             }
            },
            "type": "parcoords"
           }
          ],
          "pie": [
           {
            "automargin": true,
            "type": "pie"
           }
          ],
          "scatter": [
           {
            "fillpattern": {
             "fillmode": "overlay",
             "size": 10,
             "solidity": 0.2
            },
            "type": "scatter"
           }
          ],
          "scatter3d": [
           {
            "line": {
             "colorbar": {
              "outlinewidth": 0,
              "ticks": ""
             }
            },
            "marker": {
             "colorbar": {
              "outlinewidth": 0,
              "ticks": ""
             }
            },
            "type": "scatter3d"
           }
          ],
          "scattercarpet": [
           {
            "marker": {
             "colorbar": {
              "outlinewidth": 0,
              "ticks": ""
             }
            },
            "type": "scattercarpet"
           }
          ],
          "scattergeo": [
           {
            "marker": {
             "colorbar": {
              "outlinewidth": 0,
              "ticks": ""
             }
            },
            "type": "scattergeo"
           }
          ],
          "scattergl": [
           {
            "marker": {
             "colorbar": {
              "outlinewidth": 0,
              "ticks": ""
             }
            },
            "type": "scattergl"
           }
          ],
          "scattermap": [
           {
            "marker": {
             "colorbar": {
              "outlinewidth": 0,
              "ticks": ""
             }
            },
            "type": "scattermap"
           }
          ],
          "scattermapbox": [
           {
            "marker": {
             "colorbar": {
              "outlinewidth": 0,
              "ticks": ""
             }
            },
            "type": "scattermapbox"
           }
          ],
          "scatterpolar": [
           {
            "marker": {
             "colorbar": {
              "outlinewidth": 0,
              "ticks": ""
             }
            },
            "type": "scatterpolar"
           }
          ],
          "scatterpolargl": [
           {
            "marker": {
             "colorbar": {
              "outlinewidth": 0,
              "ticks": ""
             }
            },
            "type": "scatterpolargl"
           }
          ],
          "scatterternary": [
           {
            "marker": {
             "colorbar": {
              "outlinewidth": 0,
              "ticks": ""
             }
            },
            "type": "scatterternary"
           }
          ],
          "surface": [
           {
            "colorbar": {
             "outlinewidth": 0,
             "ticks": ""
            },
            "colorscale": [
             [
              0,
              "#0d0887"
             ],
             [
              0.1111111111111111,
              "#46039f"
             ],
             [
              0.2222222222222222,
              "#7201a8"
             ],
             [
              0.3333333333333333,
              "#9c179e"
             ],
             [
              0.4444444444444444,
              "#bd3786"
             ],
             [
              0.5555555555555556,
              "#d8576b"
             ],
             [
              0.6666666666666666,
              "#ed7953"
             ],
             [
              0.7777777777777778,
              "#fb9f3a"
             ],
             [
              0.8888888888888888,
              "#fdca26"
             ],
             [
              1,
              "#f0f921"
             ]
            ],
            "type": "surface"
           }
          ],
          "table": [
           {
            "cells": {
             "fill": {
              "color": "#EBF0F8"
             },
             "line": {
              "color": "white"
             }
            },
            "header": {
             "fill": {
              "color": "#C8D4E3"
             },
             "line": {
              "color": "white"
             }
            },
            "type": "table"
           }
          ]
         },
         "layout": {
          "annotationdefaults": {
           "arrowcolor": "#2a3f5f",
           "arrowhead": 0,
           "arrowwidth": 1
          },
          "autotypenumbers": "strict",
          "coloraxis": {
           "colorbar": {
            "outlinewidth": 0,
            "ticks": ""
           }
          },
          "colorscale": {
           "diverging": [
            [
             0,
             "#8e0152"
            ],
            [
             0.1,
             "#c51b7d"
            ],
            [
             0.2,
             "#de77ae"
            ],
            [
             0.3,
             "#f1b6da"
            ],
            [
             0.4,
             "#fde0ef"
            ],
            [
             0.5,
             "#f7f7f7"
            ],
            [
             0.6,
             "#e6f5d0"
            ],
            [
             0.7,
             "#b8e186"
            ],
            [
             0.8,
             "#7fbc41"
            ],
            [
             0.9,
             "#4d9221"
            ],
            [
             1,
             "#276419"
            ]
           ],
           "sequential": [
            [
             0,
             "#0d0887"
            ],
            [
             0.1111111111111111,
             "#46039f"
            ],
            [
             0.2222222222222222,
             "#7201a8"
            ],
            [
             0.3333333333333333,
             "#9c179e"
            ],
            [
             0.4444444444444444,
             "#bd3786"
            ],
            [
             0.5555555555555556,
             "#d8576b"
            ],
            [
             0.6666666666666666,
             "#ed7953"
            ],
            [
             0.7777777777777778,
             "#fb9f3a"
            ],
            [
             0.8888888888888888,
             "#fdca26"
            ],
            [
             1,
             "#f0f921"
            ]
           ],
           "sequentialminus": [
            [
             0,
             "#0d0887"
            ],
            [
             0.1111111111111111,
             "#46039f"
            ],
            [
             0.2222222222222222,
             "#7201a8"
            ],
            [
             0.3333333333333333,
             "#9c179e"
            ],
            [
             0.4444444444444444,
             "#bd3786"
            ],
            [
             0.5555555555555556,
             "#d8576b"
            ],
            [
             0.6666666666666666,
             "#ed7953"
            ],
            [
             0.7777777777777778,
             "#fb9f3a"
            ],
            [
             0.8888888888888888,
             "#fdca26"
            ],
            [
             1,
             "#f0f921"
            ]
           ]
          },
          "colorway": [
           "#636efa",
           "#EF553B",
           "#00cc96",
           "#ab63fa",
           "#FFA15A",
           "#19d3f3",
           "#FF6692",
           "#B6E880",
           "#FF97FF",
           "#FECB52"
          ],
          "font": {
           "color": "#2a3f5f"
          },
          "geo": {
           "bgcolor": "white",
           "lakecolor": "white",
           "landcolor": "#E5ECF6",
           "showlakes": true,
           "showland": true,
           "subunitcolor": "white"
          },
          "hoverlabel": {
           "align": "left"
          },
          "hovermode": "closest",
          "mapbox": {
           "style": "light"
          },
          "paper_bgcolor": "white",
          "plot_bgcolor": "#E5ECF6",
          "polar": {
           "angularaxis": {
            "gridcolor": "white",
            "linecolor": "white",
            "ticks": ""
           },
           "bgcolor": "#E5ECF6",
           "radialaxis": {
            "gridcolor": "white",
            "linecolor": "white",
            "ticks": ""
           }
          },
          "scene": {
           "xaxis": {
            "backgroundcolor": "#E5ECF6",
            "gridcolor": "white",
            "gridwidth": 2,
            "linecolor": "white",
            "showbackground": true,
            "ticks": "",
            "zerolinecolor": "white"
           },
           "yaxis": {
            "backgroundcolor": "#E5ECF6",
            "gridcolor": "white",
            "gridwidth": 2,
            "linecolor": "white",
            "showbackground": true,
            "ticks": "",
            "zerolinecolor": "white"
           },
           "zaxis": {
            "backgroundcolor": "#E5ECF6",
            "gridcolor": "white",
            "gridwidth": 2,
            "linecolor": "white",
            "showbackground": true,
            "ticks": "",
            "zerolinecolor": "white"
           }
          },
          "shapedefaults": {
           "line": {
            "color": "#2a3f5f"
           }
          },
          "ternary": {
           "aaxis": {
            "gridcolor": "white",
            "linecolor": "white",
            "ticks": ""
           },
           "baxis": {
            "gridcolor": "white",
            "linecolor": "white",
            "ticks": ""
           },
           "bgcolor": "#E5ECF6",
           "caxis": {
            "gridcolor": "white",
            "linecolor": "white",
            "ticks": ""
           }
          },
          "title": {
           "x": 0.05
          },
          "xaxis": {
           "automargin": true,
           "gridcolor": "white",
           "linecolor": "white",
           "ticks": "",
           "title": {
            "standoff": 15
           },
           "zerolinecolor": "white",
           "zerolinewidth": 2
          },
          "yaxis": {
           "automargin": true,
           "gridcolor": "white",
           "linecolor": "white",
           "ticks": "",
           "title": {
            "standoff": 15
           },
           "zerolinecolor": "white",
           "zerolinewidth": 2
          }
         }
        },
        "xaxis": {
         "automargin": true,
         "tickangle": 45,
         "ticktext": [
          "Jan",
          "Feb",
          "Mar",
          "Apr",
          "May",
          "Jun",
          "Jul",
          "Aug",
          "Sep",
          "Oct",
          "Nov",
          "Dec"
         ],
         "tickvals": {
          "bdata": "AAAAAAEAAAACAAAAAwAAAAQAAAAFAAAABgAAAAcAAAAIAAAACQAAAAoAAAALAAAA",
          "dtype": "i4"
         },
         "title": {
          "text": "Month"
         }
        },
        "yaxis": {
         "title": {
          "text": "Frequency"
         }
        }
       }
      }
     },
     "metadata": {},
     "output_type": "display_data"
    }
   ],
   "source": [
    "trace_not_booked = go.Bar(y = not_booked['checkIn_date_month'].value_counts().sort_index()/len(not_booked) , name= 'Not Booked') # TODO\n",
    "trace_is_booked = go.Bar(y = is_booked['checkIn_date_month'].value_counts().sort_index()/len(is_booked) , name='Booked') # TODO\n",
    "\n",
    "# در ادامه‌ی این قسمت از کد تغییری ایجاد نکنید زیرا نمودار شما توسط سیستم داوری بررسی می‌شود و تغییر در این قسمت ممکن است باعث عدم داوری صحیح شود\n",
    "\n",
    "data = [trace_is_booked, trace_not_booked]\n",
    "\n",
    "ticktext = ['Jan', 'Feb', 'Mar', 'Apr', 'May', 'Jun', 'Jul', 'Aug', 'Sep', 'Oct', 'Nov', 'Dec']\n",
    "\n",
    "layout = go.Layout(\n",
    "    xaxis=dict(title='Month', tickangle=45, automargin=True,\n",
    "             ticktext = ticktext ,tickvals = np.arange(0,12)),\n",
    "    yaxis=dict(title='Frequency')\n",
    ")\n",
    "\n",
    "fig = go.Figure(data=data, layout=layout)\n",
    "fig.show()\n",
    "fig.write_json('./checkIn_date_month.json')"
   ]
  },
  {
   "attachments": {},
   "cell_type": "markdown",
   "id": "50a26b1b-448f-4a35-a324-5433de5b1ff4",
   "metadata": {},
   "source": [
    "\n",
    "<p dir=rtl style=\"direction: rtl; text-align: justify; line-height:200%; font-family:vazir; font-size:medium\">\n",
    "<font face=\"vazir\">\n",
    "در صورت علاقه می‌توانید ماه‌های سال را به فصل نیز تبدیل کنید (مانند پیشنهادی که برای ساعت جست‌وجو داده شد).\n",
    "</p>\n"
   ]
  },
  {
   "cell_type": "code",
   "execution_count": 179,
   "id": "0849a7af-96f4-4dee-9146-1da28ef40a1a",
   "metadata": {},
   "outputs": [],
   "source": [
    "# TODO (Optional): Make season column for checkIn_date_month or search_date_month"
   ]
  },
  {
   "attachments": {},
   "cell_type": "markdown",
   "id": "6a161fe9-a00a-40de-ad19-36cb14899c5f",
   "metadata": {},
   "source": [
    "<h3 align=right style=\"line-height:200%;font-family:vazir;color:#0099cc\">\n",
    "<font face=\"vazir\" color=\"#0099cc\">\n",
    "مصورسازی ۴\n",
    "</font>\n",
    "</h3>\n",
    "\n",
    "<p dir=rtl style=\"direction: rtl; text-align: justify; line-height:200%; font-family:vazir; font-size:medium\">\n",
    "<font face=\"vazir\">\n",
    "نمودار خطی برای فاصله‌ی زمانی بین جست‌وجو و ورود را نیز رسم کنید.\n",
    "</font>\n",
    "</p>\n",
    "\n",
    "<p dir=rtl style=\"direction: rtl; text-align: justify; line-height:200%; font-family:vazir; font-size:medium\">\n",
    "<font face=\"vazir\">\n",
    "خروجی نمودار شما باید به صورت زیر باشد.\n",
    "</font>\n",
    "</p>\n",
    "<center>\n",
    "<img src = 'https://quera.org/qbox/view/mEwuo0YTeE/days_between.png'>\n",
    "</center>"
   ]
  },
  {
   "cell_type": "code",
   "execution_count": 180,
   "id": "a1cce9df-abe3-45ab-afa4-5ca3fb68a0c7",
   "metadata": {},
   "outputs": [
    {
     "data": {
      "application/vnd.plotly.v1+json": {
       "config": {
        "plotlyServerURL": "https://plot.ly"
       },
       "data": [
        {
         "name": "Booked",
         "type": "scatter",
         "y": {
          "bdata": "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",
          "dtype": "f8"
         }
        },
        {
         "name": "Not Booked",
         "opacity": 0.5,
         "type": "scatter",
         "y": {
          "bdata": "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",
          "dtype": "f8"
         }
        }
       ],
       "layout": {
        "template": {
         "data": {
          "bar": [
           {
            "error_x": {
             "color": "#2a3f5f"
            },
            "error_y": {
             "color": "#2a3f5f"
            },
            "marker": {
             "line": {
              "color": "#E5ECF6",
              "width": 0.5
             },
             "pattern": {
              "fillmode": "overlay",
              "size": 10,
              "solidity": 0.2
             }
            },
            "type": "bar"
           }
          ],
          "barpolar": [
           {
            "marker": {
             "line": {
              "color": "#E5ECF6",
              "width": 0.5
             },
             "pattern": {
              "fillmode": "overlay",
              "size": 10,
              "solidity": 0.2
             }
            },
            "type": "barpolar"
           }
          ],
          "carpet": [
           {
            "aaxis": {
             "endlinecolor": "#2a3f5f",
             "gridcolor": "white",
             "linecolor": "white",
             "minorgridcolor": "white",
             "startlinecolor": "#2a3f5f"
            },
            "baxis": {
             "endlinecolor": "#2a3f5f",
             "gridcolor": "white",
             "linecolor": "white",
             "minorgridcolor": "white",
             "startlinecolor": "#2a3f5f"
            },
            "type": "carpet"
           }
          ],
          "choropleth": [
           {
            "colorbar": {
             "outlinewidth": 0,
             "ticks": ""
            },
            "type": "choropleth"
           }
          ],
          "contour": [
           {
            "colorbar": {
             "outlinewidth": 0,
             "ticks": ""
            },
            "colorscale": [
             [
              0,
              "#0d0887"
             ],
             [
              0.1111111111111111,
              "#46039f"
             ],
             [
              0.2222222222222222,
              "#7201a8"
             ],
             [
              0.3333333333333333,
              "#9c179e"
             ],
             [
              0.4444444444444444,
              "#bd3786"
             ],
             [
              0.5555555555555556,
              "#d8576b"
             ],
             [
              0.6666666666666666,
              "#ed7953"
             ],
             [
              0.7777777777777778,
              "#fb9f3a"
             ],
             [
              0.8888888888888888,
              "#fdca26"
             ],
             [
              1,
              "#f0f921"
             ]
            ],
            "type": "contour"
           }
          ],
          "contourcarpet": [
           {
            "colorbar": {
             "outlinewidth": 0,
             "ticks": ""
            },
            "type": "contourcarpet"
           }
          ],
          "heatmap": [
           {
            "colorbar": {
             "outlinewidth": 0,
             "ticks": ""
            },
            "colorscale": [
             [
              0,
              "#0d0887"
             ],
             [
              0.1111111111111111,
              "#46039f"
             ],
             [
              0.2222222222222222,
              "#7201a8"
             ],
             [
              0.3333333333333333,
              "#9c179e"
             ],
             [
              0.4444444444444444,
              "#bd3786"
             ],
             [
              0.5555555555555556,
              "#d8576b"
             ],
             [
              0.6666666666666666,
              "#ed7953"
             ],
             [
              0.7777777777777778,
              "#fb9f3a"
             ],
             [
              0.8888888888888888,
              "#fdca26"
             ],
             [
              1,
              "#f0f921"
             ]
            ],
            "type": "heatmap"
           }
          ],
          "histogram": [
           {
            "marker": {
             "pattern": {
              "fillmode": "overlay",
              "size": 10,
              "solidity": 0.2
             }
            },
            "type": "histogram"
           }
          ],
          "histogram2d": [
           {
            "colorbar": {
             "outlinewidth": 0,
             "ticks": ""
            },
            "colorscale": [
             [
              0,
              "#0d0887"
             ],
             [
              0.1111111111111111,
              "#46039f"
             ],
             [
              0.2222222222222222,
              "#7201a8"
             ],
             [
              0.3333333333333333,
              "#9c179e"
             ],
             [
              0.4444444444444444,
              "#bd3786"
             ],
             [
              0.5555555555555556,
              "#d8576b"
             ],
             [
              0.6666666666666666,
              "#ed7953"
             ],
             [
              0.7777777777777778,
              "#fb9f3a"
             ],
             [
              0.8888888888888888,
              "#fdca26"
             ],
             [
              1,
              "#f0f921"
             ]
            ],
            "type": "histogram2d"
           }
          ],
          "histogram2dcontour": [
           {
            "colorbar": {
             "outlinewidth": 0,
             "ticks": ""
            },
            "colorscale": [
             [
              0,
              "#0d0887"
             ],
             [
              0.1111111111111111,
              "#46039f"
             ],
             [
              0.2222222222222222,
              "#7201a8"
             ],
             [
              0.3333333333333333,
              "#9c179e"
             ],
             [
              0.4444444444444444,
              "#bd3786"
             ],
             [
              0.5555555555555556,
              "#d8576b"
             ],
             [
              0.6666666666666666,
              "#ed7953"
             ],
             [
              0.7777777777777778,
              "#fb9f3a"
             ],
             [
              0.8888888888888888,
              "#fdca26"
             ],
             [
              1,
              "#f0f921"
             ]
            ],
            "type": "histogram2dcontour"
           }
          ],
          "mesh3d": [
           {
            "colorbar": {
             "outlinewidth": 0,
             "ticks": ""
            },
            "type": "mesh3d"
           }
          ],
          "parcoords": [
           {
            "line": {
             "colorbar": {
              "outlinewidth": 0,
              "ticks": ""
             }
            },
            "type": "parcoords"
           }
          ],
          "pie": [
           {
            "automargin": true,
            "type": "pie"
           }
          ],
          "scatter": [
           {
            "fillpattern": {
             "fillmode": "overlay",
             "size": 10,
             "solidity": 0.2
            },
            "type": "scatter"
           }
          ],
          "scatter3d": [
           {
            "line": {
             "colorbar": {
              "outlinewidth": 0,
              "ticks": ""
             }
            },
            "marker": {
             "colorbar": {
              "outlinewidth": 0,
              "ticks": ""
             }
            },
            "type": "scatter3d"
           }
          ],
          "scattercarpet": [
           {
            "marker": {
             "colorbar": {
              "outlinewidth": 0,
              "ticks": ""
             }
            },
            "type": "scattercarpet"
           }
          ],
          "scattergeo": [
           {
            "marker": {
             "colorbar": {
              "outlinewidth": 0,
              "ticks": ""
             }
            },
            "type": "scattergeo"
           }
          ],
          "scattergl": [
           {
            "marker": {
             "colorbar": {
              "outlinewidth": 0,
              "ticks": ""
             }
            },
            "type": "scattergl"
           }
          ],
          "scattermap": [
           {
            "marker": {
             "colorbar": {
              "outlinewidth": 0,
              "ticks": ""
             }
            },
            "type": "scattermap"
           }
          ],
          "scattermapbox": [
           {
            "marker": {
             "colorbar": {
              "outlinewidth": 0,
              "ticks": ""
             }
            },
            "type": "scattermapbox"
           }
          ],
          "scatterpolar": [
           {
            "marker": {
             "colorbar": {
              "outlinewidth": 0,
              "ticks": ""
             }
            },
            "type": "scatterpolar"
           }
          ],
          "scatterpolargl": [
           {
            "marker": {
             "colorbar": {
              "outlinewidth": 0,
              "ticks": ""
             }
            },
            "type": "scatterpolargl"
           }
          ],
          "scatterternary": [
           {
            "marker": {
             "colorbar": {
              "outlinewidth": 0,
              "ticks": ""
             }
            },
            "type": "scatterternary"
           }
          ],
          "surface": [
           {
            "colorbar": {
             "outlinewidth": 0,
             "ticks": ""
            },
            "colorscale": [
             [
              0,
              "#0d0887"
             ],
             [
              0.1111111111111111,
              "#46039f"
             ],
             [
              0.2222222222222222,
              "#7201a8"
             ],
             [
              0.3333333333333333,
              "#9c179e"
             ],
             [
              0.4444444444444444,
              "#bd3786"
             ],
             [
              0.5555555555555556,
              "#d8576b"
             ],
             [
              0.6666666666666666,
              "#ed7953"
             ],
             [
              0.7777777777777778,
              "#fb9f3a"
             ],
             [
              0.8888888888888888,
              "#fdca26"
             ],
             [
              1,
              "#f0f921"
             ]
            ],
            "type": "surface"
           }
          ],
          "table": [
           {
            "cells": {
             "fill": {
              "color": "#EBF0F8"
             },
             "line": {
              "color": "white"
             }
            },
            "header": {
             "fill": {
              "color": "#C8D4E3"
             },
             "line": {
              "color": "white"
             }
            },
            "type": "table"
           }
          ]
         },
         "layout": {
          "annotationdefaults": {
           "arrowcolor": "#2a3f5f",
           "arrowhead": 0,
           "arrowwidth": 1
          },
          "autotypenumbers": "strict",
          "coloraxis": {
           "colorbar": {
            "outlinewidth": 0,
            "ticks": ""
           }
          },
          "colorscale": {
           "diverging": [
            [
             0,
             "#8e0152"
            ],
            [
             0.1,
             "#c51b7d"
            ],
            [
             0.2,
             "#de77ae"
            ],
            [
             0.3,
             "#f1b6da"
            ],
            [
             0.4,
             "#fde0ef"
            ],
            [
             0.5,
             "#f7f7f7"
            ],
            [
             0.6,
             "#e6f5d0"
            ],
            [
             0.7,
             "#b8e186"
            ],
            [
             0.8,
             "#7fbc41"
            ],
            [
             0.9,
             "#4d9221"
            ],
            [
             1,
             "#276419"
            ]
           ],
           "sequential": [
            [
             0,
             "#0d0887"
            ],
            [
             0.1111111111111111,
             "#46039f"
            ],
            [
             0.2222222222222222,
             "#7201a8"
            ],
            [
             0.3333333333333333,
             "#9c179e"
            ],
            [
             0.4444444444444444,
             "#bd3786"
            ],
            [
             0.5555555555555556,
             "#d8576b"
            ],
            [
             0.6666666666666666,
             "#ed7953"
            ],
            [
             0.7777777777777778,
             "#fb9f3a"
            ],
            [
             0.8888888888888888,
             "#fdca26"
            ],
            [
             1,
             "#f0f921"
            ]
           ],
           "sequentialminus": [
            [
             0,
             "#0d0887"
            ],
            [
             0.1111111111111111,
             "#46039f"
            ],
            [
             0.2222222222222222,
             "#7201a8"
            ],
            [
             0.3333333333333333,
             "#9c179e"
            ],
            [
             0.4444444444444444,
             "#bd3786"
            ],
            [
             0.5555555555555556,
             "#d8576b"
            ],
            [
             0.6666666666666666,
             "#ed7953"
            ],
            [
             0.7777777777777778,
             "#fb9f3a"
            ],
            [
             0.8888888888888888,
             "#fdca26"
            ],
            [
             1,
             "#f0f921"
            ]
           ]
          },
          "colorway": [
           "#636efa",
           "#EF553B",
           "#00cc96",
           "#ab63fa",
           "#FFA15A",
           "#19d3f3",
           "#FF6692",
           "#B6E880",
           "#FF97FF",
           "#FECB52"
          ],
          "font": {
           "color": "#2a3f5f"
          },
          "geo": {
           "bgcolor": "white",
           "lakecolor": "white",
           "landcolor": "#E5ECF6",
           "showlakes": true,
           "showland": true,
           "subunitcolor": "white"
          },
          "hoverlabel": {
           "align": "left"
          },
          "hovermode": "closest",
          "mapbox": {
           "style": "light"
          },
          "paper_bgcolor": "white",
          "plot_bgcolor": "#E5ECF6",
          "polar": {
           "angularaxis": {
            "gridcolor": "white",
            "linecolor": "white",
            "ticks": ""
           },
           "bgcolor": "#E5ECF6",
           "radialaxis": {
            "gridcolor": "white",
            "linecolor": "white",
            "ticks": ""
           }
          },
          "scene": {
           "xaxis": {
            "backgroundcolor": "#E5ECF6",
            "gridcolor": "white",
            "gridwidth": 2,
            "linecolor": "white",
            "showbackground": true,
            "ticks": "",
            "zerolinecolor": "white"
           },
           "yaxis": {
            "backgroundcolor": "#E5ECF6",
            "gridcolor": "white",
            "gridwidth": 2,
            "linecolor": "white",
            "showbackground": true,
            "ticks": "",
            "zerolinecolor": "white"
           },
           "zaxis": {
            "backgroundcolor": "#E5ECF6",
            "gridcolor": "white",
            "gridwidth": 2,
            "linecolor": "white",
            "showbackground": true,
            "ticks": "",
            "zerolinecolor": "white"
           }
          },
          "shapedefaults": {
           "line": {
            "color": "#2a3f5f"
           }
          },
          "ternary": {
           "aaxis": {
            "gridcolor": "white",
            "linecolor": "white",
            "ticks": ""
           },
           "baxis": {
            "gridcolor": "white",
            "linecolor": "white",
            "ticks": ""
           },
           "bgcolor": "#E5ECF6",
           "caxis": {
            "gridcolor": "white",
            "linecolor": "white",
            "ticks": ""
           }
          },
          "title": {
           "x": 0.05
          },
          "xaxis": {
           "automargin": true,
           "gridcolor": "white",
           "linecolor": "white",
           "ticks": "",
           "title": {
            "standoff": 15
           },
           "zerolinecolor": "white",
           "zerolinewidth": 2
          },
          "yaxis": {
           "automargin": true,
           "gridcolor": "white",
           "linecolor": "white",
           "ticks": "",
           "title": {
            "standoff": 15
           },
           "zerolinecolor": "white",
           "zerolinewidth": 2
          }
         }
        },
        "xaxis": {
         "automargin": true,
         "tickangle": 45,
         "title": {
          "text": "Days between search and checking time"
         }
        },
        "yaxis": {
         "title": {
          "text": "Frequency"
         }
        }
       }
      }
     },
     "metadata": {},
     "output_type": "display_data"
    }
   ],
   "source": [
    "trace_not_booked = go.Scatter(y = not_booked['days_between'].dt.days.value_counts().sort_index()/len(not_booked) , name='Not Booked', opacity = 0.5) # TODO\n",
    "trace_is_booked = go.Scatter(y = is_booked['days_between'].dt.days.value_counts().sort_index()/len(is_booked) , name='Booked') # TODO\n",
    "\n",
    "# در ادامه‌ی این قسمت از کد تغییری ایجاد نکنید زیرا نمودار شما توسط سیستم داوری بررسی می‌شود و تغییر در این قسمت ممکن است باعث عدم داوری صحیح شود\n",
    "\n",
    "data = [trace_is_booked, trace_not_booked]\n",
    "\n",
    "layout = go.Layout(\n",
    "    xaxis=dict(title='Days between search and checking time', tickangle=45, automargin=True),\n",
    "    yaxis=dict(title='Frequency')\n",
    ")\n",
    "\n",
    "fig = go.Figure(data=data, layout=layout)\n",
    "fig.show()\n",
    "fig.write_json('./days_between.json')"
   ]
  },
  {
   "attachments": {},
   "cell_type": "markdown",
   "id": "22a296d0-690e-466a-9a8f-dc22d8a8fac1",
   "metadata": {},
   "source": [
    "<h3 align=right style=\"line-height:200%;font-family:vazir;color:#0099cc\">\n",
    "<font face=\"vazir\" color=\"#0099cc\">\n",
    "مصورسازی ۵\n",
    "</font>\n",
    "</h3>\n",
    "\n",
    "<p dir=rtl style=\"direction: rtl; text-align: justify; line-height:200%; font-family:vazir; font-size:medium\">\n",
    "<font face=\"vazir\">\n",
    "همچون نمودار بالا یک نمودار برای مدت اقامت نیز رسم کنید.\n",
    "</font>\n",
    "</p>\n",
    "\n",
    "<p dir=rtl style=\"direction: rtl; text-align: justify; line-height:200%; font-family:vazir; font-size:medium\">\n",
    "<font face=\"vazir\">\n",
    "خروجی نمودار شما باید به‌صورت زیر باشد.\n",
    "</font>\n",
    "</p>\n",
    "\n",
    "<center>\n",
    "<img src = 'https://quera.org/qbox/view/iOh4Yzgkf6/los.png'>\n",
    "</center>"
   ]
  },
  {
   "cell_type": "code",
   "execution_count": 181,
   "id": "3e655326-17f0-4f40-9f67-8c425cc73ffe",
   "metadata": {},
   "outputs": [
    {
     "data": {
      "application/vnd.plotly.v1+json": {
       "config": {
        "plotlyServerURL": "https://plot.ly"
       },
       "data": [
        {
         "name": "Booked",
         "type": "scatter",
         "y": {
          "bdata": "FlKxkF+U2z9gLqksH7vMP9qQzr9phsI/tCISiFjvtT9DkSsA2KSmP/NRLLK8apg/Tib+D3QOmD/O+MAdBnF+P1R83TUAoHE/kBQzYFy2az/rnluW+n1cP32C8jnS11Q/zON7p5gnUT9uCQk0MX9ZPwevmup+tD0/0TXDjLLSMT+enFKKnlEsPzlIC+2SNSM/5dxgg4SiID+2AfFDRWgjP+84yWTmkCc/Ub7ccitZCT/l7ZNPdq//PkOkc870Iwo/Ub7ccitZCT+8jiWW4AIDP5RA6qg8YwU/NooKKr7uGj9RvtxyK1m5PlG+3HIrWbk+",
          "dtype": "f8"
         }
        },
        {
         "name": "Not Booked",
         "opacity": 0.5,
         "type": "scatter",
         "y": {
          "bdata": "F4N0tTDBcj9+6xHcV5jQP2dxXlJlE8o/Wg21f1yGxj8vRxskWaS/PxCL+0t5LrI/CSaTAuLBqD8zxPw6+bOsPz8gg4HosZE/Gj19v+KghT8+copt8pWAP97FXXFJSHA/qb97WMqxZj/SOK6orK9pP0ACGmfZSnQ/1ZzTM7w4VT8KjxJkX59JP1ClOp/oM0E/b7eE14/9OD+QOdpd02c5P+979y/SZz4/Px2Fb28IQz9Va/QPWrwrP6fgWcIm+yM/FAYcYbx4JD+gHx6t5nMpP923LeozpCk/mpyHU3kOIj/0cglWPmo2P7JuXkm3lRU/du1Jlp0mHD+mQYdkPWoaP607OA0m+xY/mOa5a1y8ET+w4EhwCKkJP1tlpbhCTQg/PPpKvDKk/j570P+0UvbxPipK3X1LE+w+gVOWDsBb6T7/2FXOYJ/jPjJbibBnZd8+B+oBAX3x5j648fSiJPvcPidVXP2MmuA+xB7Mh54m2D5xMT6ph7fSPvfHqZtETdA+qM+cPexW1j7rmtK2yiHVPuua0rbKIdU+jYBt8zmH1D73x6mbRE3QPnUmvylGMM4+SrU3elu8xT648fSiJPvMPsQezIeeJtg+MluJsGdlzz5W4g5f1efQPoVvwcAdNeE+lZEZJlbZ9z6oz5w97FbmPsQezIeeJsg+MluJsGdlvz5KtTd6W7y1PsQezIeeJqg+uPH0oiT7nD648fSiJPucPtBLo2wYUoM+0EujbBhSkz648fSiJPucPtBLo2wYUqM+0EujbBhSgz7QS6NsGFKDPtBLo2wYUpM+0EujbBhSgz7QS6NsGFKTPsQezIeeJqg+0EujbBhSkz7QS6NsGFKTPtBLo2wYUoM+0EujbBhSkz7QS6NsGFKDPtBLo2wYUoM+uPH0oiT7nD648fSiJPucPrjx9KIk+7w+0EujbBhSsz6NgG3zOYfEPj6IYJXhkNo+xB7Mh54mqD7EHsyHnia4PtBLo2wYUqM+0EujbBhSgz7QS6NsGFKDPrjx9KIk+5w+uPH0oiT7nD7QS6NsGFKDPtBLo2wYUoM+0EujbBhSgz7QS6NsGFKTPtBLo2wYUoM+0EujbBhSgz648fSiJPucPtBLo2wYUpM+0EujbBhSgz7QS6NsGFKzPtBLo2wYUoM+xB7Mh54myD5W4g5f1eewPtBLo2wYUpM+0EujbBhSgz7QS6NsGFKDPrjx9KIk+5w+0EujbBhSgz7QS6NsGFKTPtBLo2wYUoM+0EujbBhSgz7QS6NsGFKDPtBLo2wYUpM+0EujbBhSgz648fSiJPucPrjx9KIk+5w+0EujbBhSgz7QS6NsGFLDPrjx9KIk+6w+0EujbBhSgz7QS6NsGFKDPtBLo2wYUpM+uPH0oiT7nD7QS6NsGFKTPtBLo2wYUoM+0EujbBhSgz7QS6NsGFKDPtBLo2wYUoM+0EujbBhSgz7QS6NsGFKDPrjx9KIk+6w+0EujbBhSgz7QS6NsGFKDPtBLo2wYUoM+0EujbBhSgz7QS6NsGFKTPtBLo2wYUoM+0EujbBhSgz7QS6NsGFKTPtBLo2wYUpM+0EujbBhSgz7QS6NsGFKDPtBLo2wYUoM+0EujbBhSoz7QS6NsGFKzPtBLo2wYUoM+0EujbBhSgz7QS6NsGFKDPtBLo2wYUoM+0EujbBhSgz7QS6NsGFKTPrjx9KIk+5w+0EujbBhSkz7QS6NsGFKDPtBLo2wYUoM+0EujbBhSgz648fSiJPucPtBLo2wYUoM+0EujbBhSgz7QS6NsGFKDPtBLo2wYUoM+VuIOX9XnsD7QS6NsGFKDPtBLo2wYUoM+0EujbBhSgz4=",
          "dtype": "f8"
         }
        }
       ],
       "layout": {
        "template": {
         "data": {
          "bar": [
           {
            "error_x": {
             "color": "#2a3f5f"
            },
            "error_y": {
             "color": "#2a3f5f"
            },
            "marker": {
             "line": {
              "color": "#E5ECF6",
              "width": 0.5
             },
             "pattern": {
              "fillmode": "overlay",
              "size": 10,
              "solidity": 0.2
             }
            },
            "type": "bar"
           }
          ],
          "barpolar": [
           {
            "marker": {
             "line": {
              "color": "#E5ECF6",
              "width": 0.5
             },
             "pattern": {
              "fillmode": "overlay",
              "size": 10,
              "solidity": 0.2
             }
            },
            "type": "barpolar"
           }
          ],
          "carpet": [
           {
            "aaxis": {
             "endlinecolor": "#2a3f5f",
             "gridcolor": "white",
             "linecolor": "white",
             "minorgridcolor": "white",
             "startlinecolor": "#2a3f5f"
            },
            "baxis": {
             "endlinecolor": "#2a3f5f",
             "gridcolor": "white",
             "linecolor": "white",
             "minorgridcolor": "white",
             "startlinecolor": "#2a3f5f"
            },
            "type": "carpet"
           }
          ],
          "choropleth": [
           {
            "colorbar": {
             "outlinewidth": 0,
             "ticks": ""
            },
            "type": "choropleth"
           }
          ],
          "contour": [
           {
            "colorbar": {
             "outlinewidth": 0,
             "ticks": ""
            },
            "colorscale": [
             [
              0,
              "#0d0887"
             ],
             [
              0.1111111111111111,
              "#46039f"
             ],
             [
              0.2222222222222222,
              "#7201a8"
             ],
             [
              0.3333333333333333,
              "#9c179e"
             ],
             [
              0.4444444444444444,
              "#bd3786"
             ],
             [
              0.5555555555555556,
              "#d8576b"
             ],
             [
              0.6666666666666666,
              "#ed7953"
             ],
             [
              0.7777777777777778,
              "#fb9f3a"
             ],
             [
              0.8888888888888888,
              "#fdca26"
             ],
             [
              1,
              "#f0f921"
             ]
            ],
            "type": "contour"
           }
          ],
          "contourcarpet": [
           {
            "colorbar": {
             "outlinewidth": 0,
             "ticks": ""
            },
            "type": "contourcarpet"
           }
          ],
          "heatmap": [
           {
            "colorbar": {
             "outlinewidth": 0,
             "ticks": ""
            },
            "colorscale": [
             [
              0,
              "#0d0887"
             ],
             [
              0.1111111111111111,
              "#46039f"
             ],
             [
              0.2222222222222222,
              "#7201a8"
             ],
             [
              0.3333333333333333,
              "#9c179e"
             ],
             [
              0.4444444444444444,
              "#bd3786"
             ],
             [
              0.5555555555555556,
              "#d8576b"
             ],
             [
              0.6666666666666666,
              "#ed7953"
             ],
             [
              0.7777777777777778,
              "#fb9f3a"
             ],
             [
              0.8888888888888888,
              "#fdca26"
             ],
             [
              1,
              "#f0f921"
             ]
            ],
            "type": "heatmap"
           }
          ],
          "histogram": [
           {
            "marker": {
             "pattern": {
              "fillmode": "overlay",
              "size": 10,
              "solidity": 0.2
             }
            },
            "type": "histogram"
           }
          ],
          "histogram2d": [
           {
            "colorbar": {
             "outlinewidth": 0,
             "ticks": ""
            },
            "colorscale": [
             [
              0,
              "#0d0887"
             ],
             [
              0.1111111111111111,
              "#46039f"
             ],
             [
              0.2222222222222222,
              "#7201a8"
             ],
             [
              0.3333333333333333,
              "#9c179e"
             ],
             [
              0.4444444444444444,
              "#bd3786"
             ],
             [
              0.5555555555555556,
              "#d8576b"
             ],
             [
              0.6666666666666666,
              "#ed7953"
             ],
             [
              0.7777777777777778,
              "#fb9f3a"
             ],
             [
              0.8888888888888888,
              "#fdca26"
             ],
             [
              1,
              "#f0f921"
             ]
            ],
            "type": "histogram2d"
           }
          ],
          "histogram2dcontour": [
           {
            "colorbar": {
             "outlinewidth": 0,
             "ticks": ""
            },
            "colorscale": [
             [
              0,
              "#0d0887"
             ],
             [
              0.1111111111111111,
              "#46039f"
             ],
             [
              0.2222222222222222,
              "#7201a8"
             ],
             [
              0.3333333333333333,
              "#9c179e"
             ],
             [
              0.4444444444444444,
              "#bd3786"
             ],
             [
              0.5555555555555556,
              "#d8576b"
             ],
             [
              0.6666666666666666,
              "#ed7953"
             ],
             [
              0.7777777777777778,
              "#fb9f3a"
             ],
             [
              0.8888888888888888,
              "#fdca26"
             ],
             [
              1,
              "#f0f921"
             ]
            ],
            "type": "histogram2dcontour"
           }
          ],
          "mesh3d": [
           {
            "colorbar": {
             "outlinewidth": 0,
             "ticks": ""
            },
            "type": "mesh3d"
           }
          ],
          "parcoords": [
           {
            "line": {
             "colorbar": {
              "outlinewidth": 0,
              "ticks": ""
             }
            },
            "type": "parcoords"
           }
          ],
          "pie": [
           {
            "automargin": true,
            "type": "pie"
           }
          ],
          "scatter": [
           {
            "fillpattern": {
             "fillmode": "overlay",
             "size": 10,
             "solidity": 0.2
            },
            "type": "scatter"
           }
          ],
          "scatter3d": [
           {
            "line": {
             "colorbar": {
              "outlinewidth": 0,
              "ticks": ""
             }
            },
            "marker": {
             "colorbar": {
              "outlinewidth": 0,
              "ticks": ""
             }
            },
            "type": "scatter3d"
           }
          ],
          "scattercarpet": [
           {
            "marker": {
             "colorbar": {
              "outlinewidth": 0,
              "ticks": ""
             }
            },
            "type": "scattercarpet"
           }
          ],
          "scattergeo": [
           {
            "marker": {
             "colorbar": {
              "outlinewidth": 0,
              "ticks": ""
             }
            },
            "type": "scattergeo"
           }
          ],
          "scattergl": [
           {
            "marker": {
             "colorbar": {
              "outlinewidth": 0,
              "ticks": ""
             }
            },
            "type": "scattergl"
           }
          ],
          "scattermap": [
           {
            "marker": {
             "colorbar": {
              "outlinewidth": 0,
              "ticks": ""
             }
            },
            "type": "scattermap"
           }
          ],
          "scattermapbox": [
           {
            "marker": {
             "colorbar": {
              "outlinewidth": 0,
              "ticks": ""
             }
            },
            "type": "scattermapbox"
           }
          ],
          "scatterpolar": [
           {
            "marker": {
             "colorbar": {
              "outlinewidth": 0,
              "ticks": ""
             }
            },
            "type": "scatterpolar"
           }
          ],
          "scatterpolargl": [
           {
            "marker": {
             "colorbar": {
              "outlinewidth": 0,
              "ticks": ""
             }
            },
            "type": "scatterpolargl"
           }
          ],
          "scatterternary": [
           {
            "marker": {
             "colorbar": {
              "outlinewidth": 0,
              "ticks": ""
             }
            },
            "type": "scatterternary"
           }
          ],
          "surface": [
           {
            "colorbar": {
             "outlinewidth": 0,
             "ticks": ""
            },
            "colorscale": [
             [
              0,
              "#0d0887"
             ],
             [
              0.1111111111111111,
              "#46039f"
             ],
             [
              0.2222222222222222,
              "#7201a8"
             ],
             [
              0.3333333333333333,
              "#9c179e"
             ],
             [
              0.4444444444444444,
              "#bd3786"
             ],
             [
              0.5555555555555556,
              "#d8576b"
             ],
             [
              0.6666666666666666,
              "#ed7953"
             ],
             [
              0.7777777777777778,
              "#fb9f3a"
             ],
             [
              0.8888888888888888,
              "#fdca26"
             ],
             [
              1,
              "#f0f921"
             ]
            ],
            "type": "surface"
           }
          ],
          "table": [
           {
            "cells": {
             "fill": {
              "color": "#EBF0F8"
             },
             "line": {
              "color": "white"
             }
            },
            "header": {
             "fill": {
              "color": "#C8D4E3"
             },
             "line": {
              "color": "white"
             }
            },
            "type": "table"
           }
          ]
         },
         "layout": {
          "annotationdefaults": {
           "arrowcolor": "#2a3f5f",
           "arrowhead": 0,
           "arrowwidth": 1
          },
          "autotypenumbers": "strict",
          "coloraxis": {
           "colorbar": {
            "outlinewidth": 0,
            "ticks": ""
           }
          },
          "colorscale": {
           "diverging": [
            [
             0,
             "#8e0152"
            ],
            [
             0.1,
             "#c51b7d"
            ],
            [
             0.2,
             "#de77ae"
            ],
            [
             0.3,
             "#f1b6da"
            ],
            [
             0.4,
             "#fde0ef"
            ],
            [
             0.5,
             "#f7f7f7"
            ],
            [
             0.6,
             "#e6f5d0"
            ],
            [
             0.7,
             "#b8e186"
            ],
            [
             0.8,
             "#7fbc41"
            ],
            [
             0.9,
             "#4d9221"
            ],
            [
             1,
             "#276419"
            ]
           ],
           "sequential": [
            [
             0,
             "#0d0887"
            ],
            [
             0.1111111111111111,
             "#46039f"
            ],
            [
             0.2222222222222222,
             "#7201a8"
            ],
            [
             0.3333333333333333,
             "#9c179e"
            ],
            [
             0.4444444444444444,
             "#bd3786"
            ],
            [
             0.5555555555555556,
             "#d8576b"
            ],
            [
             0.6666666666666666,
             "#ed7953"
            ],
            [
             0.7777777777777778,
             "#fb9f3a"
            ],
            [
             0.8888888888888888,
             "#fdca26"
            ],
            [
             1,
             "#f0f921"
            ]
           ],
           "sequentialminus": [
            [
             0,
             "#0d0887"
            ],
            [
             0.1111111111111111,
             "#46039f"
            ],
            [
             0.2222222222222222,
             "#7201a8"
            ],
            [
             0.3333333333333333,
             "#9c179e"
            ],
            [
             0.4444444444444444,
             "#bd3786"
            ],
            [
             0.5555555555555556,
             "#d8576b"
            ],
            [
             0.6666666666666666,
             "#ed7953"
            ],
            [
             0.7777777777777778,
             "#fb9f3a"
            ],
            [
             0.8888888888888888,
             "#fdca26"
            ],
            [
             1,
             "#f0f921"
            ]
           ]
          },
          "colorway": [
           "#636efa",
           "#EF553B",
           "#00cc96",
           "#ab63fa",
           "#FFA15A",
           "#19d3f3",
           "#FF6692",
           "#B6E880",
           "#FF97FF",
           "#FECB52"
          ],
          "font": {
           "color": "#2a3f5f"
          },
          "geo": {
           "bgcolor": "white",
           "lakecolor": "white",
           "landcolor": "#E5ECF6",
           "showlakes": true,
           "showland": true,
           "subunitcolor": "white"
          },
          "hoverlabel": {
           "align": "left"
          },
          "hovermode": "closest",
          "mapbox": {
           "style": "light"
          },
          "paper_bgcolor": "white",
          "plot_bgcolor": "#E5ECF6",
          "polar": {
           "angularaxis": {
            "gridcolor": "white",
            "linecolor": "white",
            "ticks": ""
           },
           "bgcolor": "#E5ECF6",
           "radialaxis": {
            "gridcolor": "white",
            "linecolor": "white",
            "ticks": ""
           }
          },
          "scene": {
           "xaxis": {
            "backgroundcolor": "#E5ECF6",
            "gridcolor": "white",
            "gridwidth": 2,
            "linecolor": "white",
            "showbackground": true,
            "ticks": "",
            "zerolinecolor": "white"
           },
           "yaxis": {
            "backgroundcolor": "#E5ECF6",
            "gridcolor": "white",
            "gridwidth": 2,
            "linecolor": "white",
            "showbackground": true,
            "ticks": "",
            "zerolinecolor": "white"
           },
           "zaxis": {
            "backgroundcolor": "#E5ECF6",
            "gridcolor": "white",
            "gridwidth": 2,
            "linecolor": "white",
            "showbackground": true,
            "ticks": "",
            "zerolinecolor": "white"
           }
          },
          "shapedefaults": {
           "line": {
            "color": "#2a3f5f"
           }
          },
          "ternary": {
           "aaxis": {
            "gridcolor": "white",
            "linecolor": "white",
            "ticks": ""
           },
           "baxis": {
            "gridcolor": "white",
            "linecolor": "white",
            "ticks": ""
           },
           "bgcolor": "#E5ECF6",
           "caxis": {
            "gridcolor": "white",
            "linecolor": "white",
            "ticks": ""
           }
          },
          "title": {
           "x": 0.05
          },
          "xaxis": {
           "automargin": true,
           "gridcolor": "white",
           "linecolor": "white",
           "ticks": "",
           "title": {
            "standoff": 15
           },
           "zerolinecolor": "white",
           "zerolinewidth": 2
          },
          "yaxis": {
           "automargin": true,
           "gridcolor": "white",
           "linecolor": "white",
           "ticks": "",
           "title": {
            "standoff": 15
           },
           "zerolinecolor": "white",
           "zerolinewidth": 2
          }
         }
        },
        "xaxis": {
         "automargin": true,
         "tickangle": 45,
         "title": {
          "text": "Length of Stay"
         }
        },
        "yaxis": {
         "title": {
          "text": "Frequency"
         }
        }
       }
      }
     },
     "metadata": {},
     "output_type": "display_data"
    }
   ],
   "source": [
    "trace_not_booked = go.Scatter(y = not_booked['duration'].dt.days.value_counts().sort_index()/len(not_booked) , name='Not Booked', opacity = 0.5) # TODO\n",
    "trace_is_booked = go.Scatter(y = is_booked['duration'].dt.days.value_counts().sort_index()/len(is_booked) , name='Booked') # TODO\n",
    "\n",
    "# در ادامه‌ی این قسمت از کد تغییری ایجاد نکنید زیرا نمودار شما توسط سیستم داوری بررسی می‌شود و تغییر در این قسمت ممکن است باعث عدم داوری صحیح شود\n",
    "\n",
    "data = [trace_is_booked, trace_not_booked]\n",
    "\n",
    "layout = go.Layout(\n",
    "    xaxis=dict(title='Length of Stay', tickangle=45, automargin=True),\n",
    "    yaxis=dict(title='Frequency')\n",
    ")\n",
    "\n",
    "fig = go.Figure(data=data, layout=layout)\n",
    "fig.show()\n",
    "fig.write_json('./los.json')"
   ]
  },
  {
   "attachments": {},
   "cell_type": "markdown",
   "id": "5ab0c8e4-408a-4af0-8a3d-6099075f885a",
   "metadata": {},
   "source": [
    "<h3 align=right style=\"line-height:200%;font-family:vazir;color:#0099cc\">\n",
    "<font face=\"vazir\" color=\"#0099cc\">\n",
    "خارجی یا داخلی\n",
    "</font>\n",
    "</h3>\n",
    "\n",
    "<p dir=rtl style=\"direction: rtl; text-align: justify; line-height:200%; font-family:vazir; font-size:medium\">\n",
    "<font face=\"vazir\" size=3>\n",
    "تا اینجا داده‌های زمانی را مورد بررسی قرار دادیم و سعی کردیم کمی در آن‌‌ها اکتشاف کنیم.\n",
    "حال با توجه به داده‌های دیگر می‌توانیم اکتشافات دیگری انجام دهیم. <br>ستونی با نام <code>is_abroad</code> ایجاد کنید و در آن جست‌وجو‌ها برای هتل‌های خارج از کشور کاربر را مشخص کنید.\n",
    "به‌طور مثال اگر کاربر در کشوری با شناسه‌ی <code>x</code> است و در جست‌وجوی خود هتلی در کشوری غیر از <code>x</code> را جست‌وجو ستون <code>is_abroad</code> را برای این نمونه برابر <code>1</code> قرار دهید.\n",
    "</font>\n",
    "</p>\n"
   ]
  },
  {
   "cell_type": "code",
   "execution_count": 182,
   "id": "81b4ea8b",
   "metadata": {},
   "outputs": [
    {
     "data": {
      "text/plain": [
       "0          True\n",
       "1          True\n",
       "2          True\n",
       "3          True\n",
       "4          True\n",
       "           ... \n",
       "7622995    True\n",
       "7622996    True\n",
       "7622997    True\n",
       "7622998    True\n",
       "7622999    True\n",
       "Length: 7608708, dtype: bool"
      ]
     },
     "execution_count": 182,
     "metadata": {},
     "output_type": "execute_result"
    }
   ],
   "source": [
    "~(train['hotel_country'] == train['user_location_country'])"
   ]
  },
  {
   "cell_type": "code",
   "execution_count": 183,
   "id": "a5416cb7-8b90-4d1d-8ecb-8bdf142dcc5c",
   "metadata": {},
   "outputs": [],
   "source": [
    "# TODO: Add is_abroad column\n",
    "\n",
    "train['is_abroad'] = ~(train['hotel_country'] == train['user_location_country'])\n",
    "test['is_abroad'] = ~(test['hotel_country'] == test['user_location_country'])"
   ]
  },
  {
   "attachments": {},
   "cell_type": "markdown",
   "id": "b8590bb9-2d0a-4c0d-80fa-ea2c2433e6f0",
   "metadata": {},
   "source": [
    "<h3 align=right style=\"line-height:200%;font-family:vazir;color:#0099cc\">\n",
    "<font face=\"vazir\" color=\"#0099cc\">\n",
    "🤓 بیشتر\n",
    "</font>\n",
    "</h3>\n",
    "\n",
    "\n",
    "<p dir=rtl style=\"direction: rtl; text-align: justify; line-height:200%; font-family:vazir; font-size:medium\">\n",
    "<font face=\"vazir\" size=3>\n",
    "از آن‌جا که این مجموعه‌داده شامل ویژگی‌های متعدد و متنوعی است، می‌توانید به غیر از موارد خواسته‌شده، از جنبه‌های مختلفی به تحلیل داده‌ها بپردازید. برای مثال می‌توانید توزیع‌های سایر ویژگی‌ها را بررسی کنید، ارتباط ویژگی‌ها با هم و با متغیر هدف را بررسی کنید. همچنین با توجه به بینش‌هایی که از داده‌ها به‌دست می‌آورید، می‌توانید به پیش‌پردازش داده‌ها بپردازید تا ورودی‌های باکیفیت‌تری را برای مدل خود آماده کنید. این بخش به‌صورت جداگانه مورد داوری قرار نمی‌گیرد و دست شما باز است تا از هر تکنیکی که برای بهبود عملکرد مدل خود لازم می‌دانید استفاده کنید.\n",
    "در انجام مراحل پیش‌پردازش و مهندسی ویژگی، می‌توانید موارد زیر را انجام دهید. همچنین توجه داشته باشید در نهایت مجموعه‌داده آموزش و آزمون باید ساختاری مشابه یکدیگر داشته باشند.\n",
    "\n",
    "<ul dir=rtl>\n",
    "<li dir=rtl>\n",
    " مدیریت ویژگی‌های دسته‌ای ترتیبی و اسمی (توجه داشته باشید با این‌که داده‌های مجموعه‌داده‌ی اولیه از نوع عدد هستند اما الزاماً اعداد آن‌ها بار معنایی از نظر ریاضی ندارند و با برخی از آن‌ها باید همچون ویژگی‌های دسته‌ای برخورد کنید و شاید برای بهبود مدل نیاز به مدیریت این داده‌ها داشته باشید.)\n",
    "    </li>\n",
    "    <li dir=rtl>\n",
    "        در بعضی موارد حذف بعضی ستون‌ها به بهبود مدل کمک می‌کند، به‌طور مثال در مرحله‌ی قبل ستونی برای خارجی بودن هتل ایجاد کردیم، حال ممکن است دیگر نیازی به کشور کاربر و یا هتل با توجه به ستون جدید نداشته باشیم.\n",
    "    </li>\n",
    "       <li dir=rtl>\n",
    "           با بررسی توزیع مجموعه‌داده متوجه می‌شوید که این مجموعه‌داده متوازن نیست، بنابراین نحوه‌ی مدیریت این چالش نیز می‌تواند در مدل شما تاثیر بگذارد.\n",
    "    </li>\n",
    "</ul>\n",
    "</font>\n",
    "</p>\n",
    "\n",
    "<p dir=rtl style=\"direction: rtl; text-align: justify; line-height:200%; font-family:vazir; font-size:medium\">\n",
    "<font face=\"vazir\" size=3>\n",
    "توجه داشته باشید که کدنویسی سلول‌های زیر کاملاً اختیاری است.\n",
    "</font>\n",
    "</p>"
   ]
  },
  {
   "cell_type": "code",
   "execution_count": 184,
   "id": "b4428d7c-a728-46bb-8918-2747f85c7751",
   "metadata": {},
   "outputs": [],
   "source": [
    "# TODO: Preprocessing Any Thing You Want"
   ]
  },
  {
   "cell_type": "code",
   "execution_count": 185,
   "id": "06a6e679-bc0e-49d4-acf5-d9085d2df66c",
   "metadata": {},
   "outputs": [],
   "source": [
    "# TODO: Preprocessing (Drop Unnecessary Columns) (Optional)"
   ]
  },
  {
   "cell_type": "code",
   "execution_count": 186,
   "id": "3e8987ac-64cf-4fac-b8ea-6673382a6dcf",
   "metadata": {},
   "outputs": [],
   "source": [
    "# TODO: Preprocessing (Make One-hotted Columns) (Optional)\n",
    "\n",
    "dummy_columns = [] # Optional\n",
    "\n",
    "train = pd.get_dummies(train, columns = dummy_columns) # Optional\n",
    "test = pd.get_dummies(test, columns = dummy_columns) # Optional"
   ]
  },
  {
   "cell_type": "code",
   "execution_count": 187,
   "id": "52a3da31",
   "metadata": {},
   "outputs": [],
   "source": [
    "corr = train.corr()"
   ]
  },
  {
   "cell_type": "code",
   "execution_count": 188,
   "id": "e979444d",
   "metadata": {},
   "outputs": [
    {
     "name": "stdout",
     "output_type": "stream",
     "text": [
      "user_location_country     0.007148\n",
      "user_location_region      0.007738\n",
      "user_location_city        0.002264\n",
      "destination_distance     -0.020860\n",
      "search_date              -0.014949\n",
      "is_mobile                -0.031065\n",
      "is_package               -0.068789\n",
      "channel                   0.023694\n",
      "search_count             -0.124544\n",
      "checkIn_date             -0.037971\n",
      "checkOut_date            -0.039301\n",
      "n_adults                 -0.052547\n",
      "n_children               -0.022411\n",
      "n_rooms                   0.011135\n",
      "destination               0.022391\n",
      "destination_type          0.036269\n",
      "hotel_continent          -0.025517\n",
      "hotel_country            -0.003775\n",
      "hotel_market              0.011099\n",
      "hotel_category           -0.021960\n",
      "is_booking                1.000000\n",
      "duration                 -0.091065\n",
      "days_between             -0.080094\n",
      "search_date_hour         -0.016182\n",
      "search_date_dayofweek    -0.011010\n",
      "checkIn_date_dayofweek   -0.013836\n",
      "search_date_month         0.002949\n",
      "checkIn_date_month       -0.020505\n",
      "is_abroad                -0.002178\n",
      "Name: is_booking, dtype: float64\n"
     ]
    }
   ],
   "source": [
    "print(corr.loc['is_booking'])"
   ]
  },
  {
   "cell_type": "code",
   "execution_count": 189,
   "id": "46b2b586",
   "metadata": {},
   "outputs": [],
   "source": [
    "train.drop(columns= ['user_location_country', 'user_location_region', 'hotel_country', 'user_location_city', 'search_date_month'], inplace=True)"
   ]
  },
  {
   "cell_type": "code",
   "execution_count": 190,
   "id": "7186f009",
   "metadata": {},
   "outputs": [],
   "source": [
    "test.drop(columns= ['user_location_country', 'user_location_region', 'hotel_country', 'user_location_city', 'search_date_month'], inplace=True)"
   ]
  },
  {
   "cell_type": "code",
   "execution_count": 191,
   "id": "99e55bf2",
   "metadata": {},
   "outputs": [],
   "source": [
    "train.drop(columns=['search_date', 'checkIn_date', 'checkOut_date', 'destination', 'hotel_market'], inplace= True)\n",
    "train['duration'] = train['duration'].dt.days\n",
    "train['days_between'] = train['days_between'].dt.days\n",
    "\n",
    "test.drop(columns=['search_date', 'checkIn_date', 'checkOut_date', 'destination', 'hotel_market'], inplace= True)\n",
    "test['duration'] = test['duration'].dt.days\n",
    "test['days_between'] = test['days_between'].dt.days"
   ]
  },
  {
   "cell_type": "code",
   "execution_count": 192,
   "id": "2e1c2b53",
   "metadata": {},
   "outputs": [
    {
     "data": {
      "text/plain": [
       "(7608708, 19)"
      ]
     },
     "execution_count": 192,
     "metadata": {},
     "output_type": "execute_result"
    }
   ],
   "source": [
    "train.shape"
   ]
  },
  {
   "cell_type": "code",
   "execution_count": 193,
   "id": "f88ab2b6",
   "metadata": {},
   "outputs": [
    {
     "data": {
      "text/plain": [
       "(325821, 18)"
      ]
     },
     "execution_count": 193,
     "metadata": {},
     "output_type": "execute_result"
    }
   ],
   "source": [
    "test.shape"
   ]
  },
  {
   "cell_type": "code",
   "execution_count": 194,
   "id": "600b8882-3d22-4fa6-814b-2d4cd2401bb0",
   "metadata": {},
   "outputs": [],
   "source": [
    "# TODO: Make Validation Set (Optional)\n",
    "\n",
    "from sklearn.model_selection import train_test_split\n",
    "\n",
    "X_train, X_valid, y_train, y_valid = train_test_split(train.drop(columns= ['is_booking']), train['is_booking'], test_size = 0.1, random_state= 4) # Optional"
   ]
  },
  {
   "attachments": {},
   "cell_type": "markdown",
   "id": "0ff3526f-badc-4c9e-8b10-f83b7831a668",
   "metadata": {},
   "source": [
    "<h2 dir=rtl align=right style=\"line-height:200%;font-family:vazir;color:#0099cc\">\n",
    "<font face=\"vazir\" color=\"#0099cc\">\n",
    "مدل‌سازی\n",
    "</font>\n",
    "</h2>\n",
    "\n",
    "\n",
    "<p dir=rtl style=\"direction: rtl; text-align: justify; line-height:200%; font-family:vazir; font-size:medium\">\n",
    "<font face=\"vazir\" size=3>\n",
    "پس از آماده‌سازی داده‌ها نوبت به ساخت شبکه‌ی عصبی می‌رسد. باز هم دست‌تان باز است تا معماری موردنظر خود را طراحی کنید و از هر تکنیکی که لازم می‌دانید جهت بهتر کردن فرآیند آموزش مدل استفاده کنید. پیشنهاد می‌کنیم تکنیک‌های مختلفی که تا اینجای دوره آموخته‌اید را آزمایش کرده و به تفسیر نتایج بپردازید.\n",
    "دقت داشته باشید در خروجی مدل باید احتمال رزرو شدن هتل را پیش‌بینی کنید. به عبارت بهتر احتمال <code>1</code>\n",
    " شدن ستون <code>is_booking</code>\n",
    " را تخمین بزنید.\n",
    "همچنین توجه داشته باشید که برای ارزیابی مدل شما از معیار <code>AUC</code> یعنی سطح زیر منحنی نمودار <code>ROC</code> استفاده می‌شود. برای مطالعه بیشتر در مورد این نمودار می‌توانید <a href = 'https://en.wikipedia.org/wiki/Receiver_operating_characteristic'> ویکی‌پدیا </a>\n",
    "    یا <a href = 'https://stanford.edu/~shervine/l/fa/teaching/cs-229/cheatsheet-machine-learning-tips-and-tricks'> راهنمای کوتاه نکات و ترفندهای یادگیری ماشین </a>\n",
    " را مطالعه کنید.\n",
    "</font>\n",
    "</p>"
   ]
  },
  {
   "cell_type": "code",
   "execution_count": 202,
   "id": "dafaffd9-0dad-4bec-aedc-ea0178c8567b",
   "metadata": {},
   "outputs": [],
   "source": [
    "# TODO : Design Model\n",
    "model = keras.Sequential()\n",
    "model.add(keras.layers.Input(shape=(18,)))\n",
    "model.add(keras.layers.Dense(128, activation='relu'))\n",
    "model.add(keras.layers.Dropout(0.35))\n",
    "model.add(keras.layers.BatchNormalization())\n",
    "model.add(keras.layers.Dense(256, activation='elu', kernel_initializer= 'he_normal'))\n",
    "model.add(keras.layers.Dropout(0.35))\n",
    "model.add(keras.layers.BatchNormalization())\n",
    "model.add(keras.layers.Dense(1, activation='sigmoid', kernel_initializer= 'glorot_normal'))"
   ]
  },
  {
   "cell_type": "code",
   "execution_count": 203,
   "id": "d478d2ef-4d53-41bf-9ca5-7aa3a6fd8f0f",
   "metadata": {},
   "outputs": [],
   "source": [
    "# TODO : Complie the Model\n",
    "model.compile(optimizer= 'RMSprop',\n",
    "               loss= keras.losses.binary_crossentropy,\n",
    "               metrics= ['accuracy']) # TODO"
   ]
  },
  {
   "cell_type": "code",
   "execution_count": 204,
   "id": "482919f9-6af7-4884-a4e4-01ef25c73206",
   "metadata": {},
   "outputs": [
    {
     "name": "stdout",
     "output_type": "stream",
     "text": [
      "Epoch 1/10\n",
      "\u001b[1m6688/6688\u001b[0m \u001b[32m━━━━━━━━━━━━━━━━━━━━\u001b[0m\u001b[37m\u001b[0m \u001b[1m81s\u001b[0m 12ms/step - accuracy: 0.9031 - loss: 0.2997 - val_accuracy: 0.9128 - val_loss: 0.2648 - learning_rate: 0.0010\n",
      "Epoch 2/10\n",
      "\u001b[1m6688/6688\u001b[0m \u001b[32m━━━━━━━━━━━━━━━━━━━━\u001b[0m\u001b[37m\u001b[0m \u001b[1m78s\u001b[0m 12ms/step - accuracy: 0.9130 - loss: 0.2674 - val_accuracy: 0.9128 - val_loss: 0.2701 - learning_rate: 0.0010\n",
      "Epoch 3/10\n",
      "\u001b[1m6688/6688\u001b[0m \u001b[32m━━━━━━━━━━━━━━━━━━━━\u001b[0m\u001b[37m\u001b[0m \u001b[1m78s\u001b[0m 12ms/step - accuracy: 0.9130 - loss: 0.2657 - val_accuracy: 0.9128 - val_loss: 0.2633 - learning_rate: 0.0010\n",
      "Epoch 4/10\n",
      "\u001b[1m6688/6688\u001b[0m \u001b[32m━━━━━━━━━━━━━━━━━━━━\u001b[0m\u001b[37m\u001b[0m \u001b[1m79s\u001b[0m 12ms/step - accuracy: 0.9132 - loss: 0.2644 - val_accuracy: 0.9128 - val_loss: 0.2702 - learning_rate: 0.0010\n",
      "Epoch 5/10\n",
      "\u001b[1m6688/6688\u001b[0m \u001b[32m━━━━━━━━━━━━━━━━━━━━\u001b[0m\u001b[37m\u001b[0m \u001b[1m81s\u001b[0m 12ms/step - accuracy: 0.9128 - loss: 0.2645 - val_accuracy: 0.9128 - val_loss: 0.2619 - learning_rate: 0.0010\n",
      "Epoch 6/10\n",
      "\u001b[1m6688/6688\u001b[0m \u001b[32m━━━━━━━━━━━━━━━━━━━━\u001b[0m\u001b[37m\u001b[0m \u001b[1m83s\u001b[0m 12ms/step - accuracy: 0.9130 - loss: 0.2638 - val_accuracy: 0.9128 - val_loss: 0.2616 - learning_rate: 0.0010\n",
      "Epoch 7/10\n",
      "\u001b[1m6688/6688\u001b[0m \u001b[32m━━━━━━━━━━━━━━━━━━━━\u001b[0m\u001b[37m\u001b[0m \u001b[1m83s\u001b[0m 12ms/step - accuracy: 0.9130 - loss: 0.2632 - val_accuracy: 0.9128 - val_loss: 0.2624 - learning_rate: 9.0484e-04\n",
      "Epoch 8/10\n",
      "\u001b[1m6688/6688\u001b[0m \u001b[32m━━━━━━━━━━━━━━━━━━━━\u001b[0m\u001b[37m\u001b[0m \u001b[1m83s\u001b[0m 12ms/step - accuracy: 0.9130 - loss: 0.2627 - val_accuracy: 0.9128 - val_loss: 0.2644 - learning_rate: 8.1873e-04\n",
      "Epoch 9/10\n",
      "\u001b[1m6688/6688\u001b[0m \u001b[32m━━━━━━━━━━━━━━━━━━━━\u001b[0m\u001b[37m\u001b[0m \u001b[1m84s\u001b[0m 13ms/step - accuracy: 0.9130 - loss: 0.2622 - val_accuracy: 0.9128 - val_loss: 0.2628 - learning_rate: 7.4082e-04\n",
      "Epoch 10/10\n",
      "\u001b[1m6688/6688\u001b[0m \u001b[32m━━━━━━━━━━━━━━━━━━━━\u001b[0m\u001b[37m\u001b[0m \u001b[1m85s\u001b[0m 13ms/step - accuracy: 0.9130 - loss: 0.2619 - val_accuracy: 0.9128 - val_loss: 0.2632 - learning_rate: 6.7032e-04\n"
     ]
    }
   ],
   "source": [
    "# TODO : Train your Model\n",
    "\n",
    "epochs = 10\n",
    "BATCH_SIZE = 1024\n",
    "checkpoint_cb = keras.callbacks.ModelCheckpoint(\"my_keras_model.keras\", save_best_only= True)\n",
    "\n",
    "history = model.fit(X_train, y_train,\n",
    "                    epochs= epochs,\n",
    "                    batch_size= BATCH_SIZE,\n",
    "                    validation_data= [X_valid, y_valid],\n",
    "                    callbacks= [checkpoint_cb, learning_rate_cb])"
   ]
  },
  {
   "attachments": {},
   "cell_type": "markdown",
   "id": "8e88c0c8-ff7f-4ad6-885a-c25e94f19a36",
   "metadata": {},
   "source": [
    "<h2 dir=rtl align=right style=\"line-height:200%;font-family:vazir;color:#0099cc\">\n",
    "<font face=\"vazir\" color=\"#0099cc\">\n",
    "پیش‌بینی\n",
    "</font>\n",
    "</h2>\n",
    "\n",
    "<p dir=rtl style=\"direction: rtl; text-align: justify; line-height:200%; font-family:vazir; font-size:medium\">\n",
    "<font face=\"vazir\" size=3>\n",
    "در فایل <code>test.csv</code> لیستی از نمونه‌های آزمون در اختیار شما قرار گرفته و نیاز است به‌ازای هر کدام از آن‌ها احتمال رزرو هتل را پیش‌بینی کنید. پیشنهاد می‌کنیم برای اطمینان از عملکرد مدل خود و بهبود آن، ابتدا آن را بر روی یک مجموعه‌ی اعتبارسنجی آزمایش کنید.\n",
    "</font>\n",
    "</p>\n",
    "\n",
    "\n",
    "<h3 dir=rtl align=right style=\"line-height:200%;font-family:vazir;color:#0099cc\">\n",
    "<font face=\"vazir\" color=\"#0099cc\">\n",
    "معیار ارزیابی\n",
    "</font>\n",
    "</h3>\n",
    "\n",
    "<p dir=rtl style=\"direction: rtl; text-align: justify; line-height:200%; font-family:vazir; font-size:medium\">\n",
    "<font face=\"vazir\" size=3>\n",
    "برای ارزیابی عملکرد مدل شما بر روی نمونه‌های آزمون از معیار <code>AUC</code> نمودار <code>ROC</code> استفاده می‌کنیم. \n",
    "</font>\n",
    "</p>\n",
    "\n",
    "\n",
    "<p dir=rtl style=\"direction: rtl; text-align: justify; line-height:200%; font-family:vazir; font-size:medium\">\n",
    "<font color=\"red\"><b color='red'>توجه:</b></font>\n",
    "<font face=\"vazir\" size=3>\n",
    " جهت کسب امتیاز کامل نیاز است تا پاسخ شما حداقل امتیاز <code>74.00</code> را با توجه به معیار معرفی‌شده کسب نماید.\n",
    "</font>\n",
    "</p>"
   ]
  },
  {
   "cell_type": "code",
   "execution_count": 205,
   "id": "ec07d670-befe-4e3f-8977-fde3dce046a7",
   "metadata": {},
   "outputs": [
    {
     "name": "stdout",
     "output_type": "stream",
     "text": [
      "\u001b[1m23778/23778\u001b[0m \u001b[32m━━━━━━━━━━━━━━━━━━━━\u001b[0m\u001b[37m\u001b[0m \u001b[1m22s\u001b[0m 925us/step\n"
     ]
    },
    {
     "data": {
      "text/plain": [
       "array([[1.9051660e-02],\n",
       "       [1.8848022e-02],\n",
       "       [2.6453495e-02],\n",
       "       ...,\n",
       "       [5.7372794e-02],\n",
       "       [1.4830357e-01],\n",
       "       [4.1584448e-05]], dtype=float32)"
      ]
     },
     "execution_count": 205,
     "metadata": {},
     "output_type": "execute_result"
    }
   ],
   "source": [
    "from sklearn.metrics import roc_auc_score\n",
    "y_pred = model.predict(X_valid)\n",
    "y_pred"
   ]
  },
  {
   "cell_type": "code",
   "execution_count": 206,
   "id": "3867f5e8",
   "metadata": {},
   "outputs": [
    {
     "data": {
      "text/plain": [
       "0.7402698742665134"
      ]
     },
     "execution_count": 206,
     "metadata": {},
     "output_type": "execute_result"
    }
   ],
   "source": [
    "y_pred = y_pred.reshape(760871,)\n",
    "roc_auc_score((np.array(y_valid)), y_pred)"
   ]
  },
  {
   "attachments": {},
   "cell_type": "markdown",
   "id": "8fae4c46-b0da-43e0-987e-9694fd2b3f18",
   "metadata": {},
   "source": [
    "<h3 align=right style=\"line-height:200%;font-family:vazir;color:#0099cc\">\n",
    "<font face=\"vazir\" color=\"#0099cc\">\n",
    "ساختار خروجی برای نمونه‌های آزمون\n",
    "</font>\n",
    "</h3>\n",
    "\n",
    "<p dir=rtl style=\"direction: rtl; text-align: justify; line-height:200%; font-family:vazir; font-size:medium\">\n",
    "<font face=\"vazir\" size=3>\n",
    "اکنون نیاز است به‌ازای هر نمونه‌ی آزمون <b style=\"color:#0099cc\">احتمال</b> رزرو هتل را پیش‌بینی کنید.\n",
    " پیش‌بینی مدل خود را برای نمونه‌های آزمون تولید کرده و در ستون <code>prediction</code> دیتافریمی با نام <code>submission</code> ذخیره کنید. توجه داشته باشید که ترتیب مقادیر این ستون باید دقیقاً معادل با ترتیب نمونه‌های آزمون باشد. به این معنی که  ردیف i ام ستون <code>submission</code>، پیش‌بینی شما برای سطر ردیف <code>i</code> ام فایل آزمون باشد (دقت کنید که این ستون باید حتماً دارای <code>header</code> باشد).  همچنین از آنجایی که این ستون بیانگر احتمال است مقادیر این ستون باید مقداری <b>بین</b> <code>0</code> تا <code>1</code> باشد.\n",
    "</font>\n",
    "</p>\n",
    "\n",
    "<p dir=rtl style=\"direction: rtl; text-align: justify; line-height:200%; font-family:vazir; font-size:medium\">\n",
    "<font face=\"vazir\" size=3>\n",
    "یک نمونه‌ی فرضی از دیتافریم <code>submission</code> در جدول زیر نمایش داده شده است.\n",
    " </font>\n",
    "</p>\n",
    "<center>\n",
    "<div dir=rtl style=\"direction: rtl;line-height:200%;font-family:vazir;font-size:medium\">\n",
    "<font face=\"vazir\" size=3>\n",
    "\n",
    "|<code>prediction</code>|\n",
    "|:------:|\n",
    "|0.723|\n",
    "|0.516|\n",
    "|0.281|\n",
    "| ... |\n",
    "\n",
    "    \n",
    "</font>\n",
    "</div>\n",
    "</center>"
   ]
  },
  {
   "cell_type": "code",
   "execution_count": 207,
   "id": "825a11e7-fd44-4ced-b9b1-b21b896fd389",
   "metadata": {},
   "outputs": [
    {
     "name": "stdout",
     "output_type": "stream",
     "text": [
      "\u001b[1m10182/10182\u001b[0m \u001b[32m━━━━━━━━━━━━━━━━━━━━\u001b[0m\u001b[37m\u001b[0m \u001b[1m10s\u001b[0m 945us/step\n"
     ]
    },
    {
     "data": {
      "text/html": [
       "<div>\n",
       "<style scoped>\n",
       "    .dataframe tbody tr th:only-of-type {\n",
       "        vertical-align: middle;\n",
       "    }\n",
       "\n",
       "    .dataframe tbody tr th {\n",
       "        vertical-align: top;\n",
       "    }\n",
       "\n",
       "    .dataframe thead th {\n",
       "        text-align: right;\n",
       "    }\n",
       "</style>\n",
       "<table border=\"1\" class=\"dataframe\">\n",
       "  <thead>\n",
       "    <tr style=\"text-align: right;\">\n",
       "      <th></th>\n",
       "      <th>prediction</th>\n",
       "    </tr>\n",
       "  </thead>\n",
       "  <tbody>\n",
       "    <tr>\n",
       "      <th>0</th>\n",
       "      <td>0.083975</td>\n",
       "    </tr>\n",
       "    <tr>\n",
       "      <th>1</th>\n",
       "      <td>0.064802</td>\n",
       "    </tr>\n",
       "    <tr>\n",
       "      <th>2</th>\n",
       "      <td>0.134106</td>\n",
       "    </tr>\n",
       "    <tr>\n",
       "      <th>3</th>\n",
       "      <td>0.263664</td>\n",
       "    </tr>\n",
       "    <tr>\n",
       "      <th>4</th>\n",
       "      <td>0.077017</td>\n",
       "    </tr>\n",
       "    <tr>\n",
       "      <th>...</th>\n",
       "      <td>...</td>\n",
       "    </tr>\n",
       "    <tr>\n",
       "      <th>325816</th>\n",
       "      <td>0.227036</td>\n",
       "    </tr>\n",
       "    <tr>\n",
       "      <th>325817</th>\n",
       "      <td>0.259482</td>\n",
       "    </tr>\n",
       "    <tr>\n",
       "      <th>325818</th>\n",
       "      <td>0.205867</td>\n",
       "    </tr>\n",
       "    <tr>\n",
       "      <th>325819</th>\n",
       "      <td>0.163926</td>\n",
       "    </tr>\n",
       "    <tr>\n",
       "      <th>325820</th>\n",
       "      <td>0.182459</td>\n",
       "    </tr>\n",
       "  </tbody>\n",
       "</table>\n",
       "<p>325821 rows × 1 columns</p>\n",
       "</div>"
      ],
      "text/plain": [
       "        prediction\n",
       "0         0.083975\n",
       "1         0.064802\n",
       "2         0.134106\n",
       "3         0.263664\n",
       "4         0.077017\n",
       "...            ...\n",
       "325816    0.227036\n",
       "325817    0.259482\n",
       "325818    0.205867\n",
       "325819    0.163926\n",
       "325820    0.182459\n",
       "\n",
       "[325821 rows x 1 columns]"
      ]
     },
     "execution_count": 207,
     "metadata": {},
     "output_type": "execute_result"
    }
   ],
   "source": [
    "# Preparing Submission Dataframe\n",
    "\n",
    "submission = pd.DataFrame()\n",
    "submission['prediction'] = (model.predict(test)).reshape(325821,)\n",
    "submission"
   ]
  },
  {
   "cell_type": "markdown",
   "id": "61ebb2aa-2b7a-461b-a6aa-d912671cb8a7",
   "metadata": {},
   "source": [
    "<h2 align=right style=\"line-height:200%;font-family:vazir;color:#0099cc\">\n",
    "<font face=\"vazir\" color=\"#0099cc\">\n",
    "<b>سلول جواب‌ساز</b>\n",
    "</font>\n",
    "</h2>\n",
    "\n",
    "<p dir=rtl style=\"direction: rtl; text-align: justify; line-height:200%; font-family:vazir; font-size:medium\">\n",
    "<font face=\"vazir\" size=3>\n",
    "    برای ساخته‌شدن فایل <code>result.zip</code> سلول زیر را اجرا کنید. توجه داشته باشید که پیش از اجرای سلول زیر تغییرات اعمال شده در نت‌بوک را ذخیره کرده باشید (<code>ctrl+s</code>) تا در صورت نیاز به پشتیبانی امکان بررسی کد شما وجود داشته باشد. همچنین اگر از گوگل کولب استفاده می‌کنید، در صورت نیاز به پشتیبانی حتماً آخرین نسخه از نت‌بوک را به‌صورت دستی دانلود کرده و داخل فایل ارسالی قرار دهید یا لینک کولب را با ما به‌اشتراک بگذارید.\n",
    "</font>\n",
    "</p>"
   ]
  },
  {
   "cell_type": "code",
   "execution_count": 208,
   "id": "91766915-4a0f-4246-8273-d661a18927b3",
   "metadata": {},
   "outputs": [
    {
     "name": "stdout",
     "output_type": "stream",
     "text": [
      "File Paths:\n",
      "['will_not_travel_again.ipynb', 'submission.csv', 'search_hour.json', 'checkIn_date_month.json', 'checkIn_day.json', 'days_between.json', 'los.json']\n"
     ]
    }
   ],
   "source": [
    "import zipfile\n",
    "import joblib\n",
    "import os\n",
    "\n",
    "if not os.path.exists(os.path.join(os.getcwd(), 'will_not_travel_again.ipynb')):\n",
    "    %notebook -e will_not_travel_again.ipynb\n",
    "\n",
    "def compress(file_names):\n",
    "    print(\"File Paths:\")\n",
    "    print(file_names)\n",
    "    compression = zipfile.ZIP_DEFLATED\n",
    "    with zipfile.ZipFile(\"result.zip\", mode=\"w\") as zf:\n",
    "        for file_name in file_names:\n",
    "            zf.write('./' + file_name, file_name, compress_type=compression)\n",
    "\n",
    "submission.to_csv('submission.csv', index=False)\n",
    "file_names = ['will_not_travel_again.ipynb', 'submission.csv',\n",
    "              'search_hour.json', 'checkIn_date_month.json',\n",
    "              'checkIn_day.json', 'days_between.json', 'los.json']\n",
    "compress(file_names)"
   ]
  }
 ],
 "metadata": {
  "kernelspec": {
   "display_name": "tf",
   "language": "python",
   "name": "python3"
  },
  "language_info": {
   "codemirror_mode": {
    "name": "ipython",
    "version": 3
   },
   "file_extension": ".py",
   "mimetype": "text/x-python",
   "name": "python",
   "nbconvert_exporter": "python",
   "pygments_lexer": "ipython3",
   "version": "3.9.21"
  }
 },
 "nbformat": 4,
 "nbformat_minor": 5
}
